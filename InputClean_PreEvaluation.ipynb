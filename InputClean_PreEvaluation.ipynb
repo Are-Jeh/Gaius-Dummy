{
  "nbformat": 4,
  "nbformat_minor": 0,
  "metadata": {
    "colab": {
      "name": "InputClean.ipynb",
      "provenance": [],
      "collapsed_sections": [],
      "include_colab_link": true
    },
    "kernelspec": {
      "name": "python3",
      "display_name": "Python 3"
    },
    "accelerator": "GPU",
    "widgets": {
      "application/vnd.jupyter.widget-state+json": {
        "6884bcd79b2f4ec398bbe698c44128b0": {
          "model_module": "@jupyter-widgets/controls",
          "model_name": "HBoxModel",
          "state": {
            "_view_name": "HBoxView",
            "_dom_classes": [],
            "_model_name": "HBoxModel",
            "_view_module": "@jupyter-widgets/controls",
            "_model_module_version": "1.5.0",
            "_view_count": null,
            "_view_module_version": "1.5.0",
            "box_style": "",
            "layout": "IPY_MODEL_5762488cbf5c4a4f9dfa86f652d3f8e5",
            "_model_module": "@jupyter-widgets/controls",
            "children": [
              "IPY_MODEL_710b7523f9cd41d0acf64aac7e9cef50",
              "IPY_MODEL_2d5bd9dd283142e3aa1b06f6ae667680"
            ]
          }
        },
        "5762488cbf5c4a4f9dfa86f652d3f8e5": {
          "model_module": "@jupyter-widgets/base",
          "model_name": "LayoutModel",
          "state": {
            "_view_name": "LayoutView",
            "grid_template_rows": null,
            "right": null,
            "justify_content": null,
            "_view_module": "@jupyter-widgets/base",
            "overflow": null,
            "_model_module_version": "1.2.0",
            "_view_count": null,
            "flex_flow": null,
            "width": null,
            "min_width": null,
            "border": null,
            "align_items": null,
            "bottom": null,
            "_model_module": "@jupyter-widgets/base",
            "top": null,
            "grid_column": null,
            "overflow_y": null,
            "overflow_x": null,
            "grid_auto_flow": null,
            "grid_area": null,
            "grid_template_columns": null,
            "flex": null,
            "_model_name": "LayoutModel",
            "justify_items": null,
            "grid_row": null,
            "max_height": null,
            "align_content": null,
            "visibility": null,
            "align_self": null,
            "height": null,
            "min_height": null,
            "padding": null,
            "grid_auto_rows": null,
            "grid_gap": null,
            "max_width": null,
            "order": null,
            "_view_module_version": "1.2.0",
            "grid_template_areas": null,
            "object_position": null,
            "object_fit": null,
            "grid_auto_columns": null,
            "margin": null,
            "display": null,
            "left": null
          }
        },
        "710b7523f9cd41d0acf64aac7e9cef50": {
          "model_module": "@jupyter-widgets/controls",
          "model_name": "FloatProgressModel",
          "state": {
            "_view_name": "ProgressView",
            "style": "IPY_MODEL_994096e567b44c2bafc5e87eafb10464",
            "_dom_classes": [],
            "description": "Downloading: 100%",
            "_model_name": "FloatProgressModel",
            "bar_style": "success",
            "max": 1621,
            "_view_module": "@jupyter-widgets/controls",
            "_model_module_version": "1.5.0",
            "value": 1621,
            "_view_count": null,
            "_view_module_version": "1.5.0",
            "orientation": "horizontal",
            "min": 0,
            "description_tooltip": null,
            "_model_module": "@jupyter-widgets/controls",
            "layout": "IPY_MODEL_34d5f0fe681e4d61ab50f1d37b844751"
          }
        },
        "2d5bd9dd283142e3aa1b06f6ae667680": {
          "model_module": "@jupyter-widgets/controls",
          "model_name": "HTMLModel",
          "state": {
            "_view_name": "HTMLView",
            "style": "IPY_MODEL_d1797ed644344f08a3f3d4a4179e3b86",
            "_dom_classes": [],
            "description": "",
            "_model_name": "HTMLModel",
            "placeholder": "​",
            "_view_module": "@jupyter-widgets/controls",
            "_model_module_version": "1.5.0",
            "value": " 1.62k/1.62k [00:40&lt;00:00, 40.0B/s]",
            "_view_count": null,
            "_view_module_version": "1.5.0",
            "description_tooltip": null,
            "_model_module": "@jupyter-widgets/controls",
            "layout": "IPY_MODEL_b25d904799274815a5d3f10e7541bdf1"
          }
        },
        "994096e567b44c2bafc5e87eafb10464": {
          "model_module": "@jupyter-widgets/controls",
          "model_name": "ProgressStyleModel",
          "state": {
            "_view_name": "StyleView",
            "_model_name": "ProgressStyleModel",
            "description_width": "initial",
            "_view_module": "@jupyter-widgets/base",
            "_model_module_version": "1.5.0",
            "_view_count": null,
            "_view_module_version": "1.2.0",
            "bar_color": null,
            "_model_module": "@jupyter-widgets/controls"
          }
        },
        "34d5f0fe681e4d61ab50f1d37b844751": {
          "model_module": "@jupyter-widgets/base",
          "model_name": "LayoutModel",
          "state": {
            "_view_name": "LayoutView",
            "grid_template_rows": null,
            "right": null,
            "justify_content": null,
            "_view_module": "@jupyter-widgets/base",
            "overflow": null,
            "_model_module_version": "1.2.0",
            "_view_count": null,
            "flex_flow": null,
            "width": null,
            "min_width": null,
            "border": null,
            "align_items": null,
            "bottom": null,
            "_model_module": "@jupyter-widgets/base",
            "top": null,
            "grid_column": null,
            "overflow_y": null,
            "overflow_x": null,
            "grid_auto_flow": null,
            "grid_area": null,
            "grid_template_columns": null,
            "flex": null,
            "_model_name": "LayoutModel",
            "justify_items": null,
            "grid_row": null,
            "max_height": null,
            "align_content": null,
            "visibility": null,
            "align_self": null,
            "height": null,
            "min_height": null,
            "padding": null,
            "grid_auto_rows": null,
            "grid_gap": null,
            "max_width": null,
            "order": null,
            "_view_module_version": "1.2.0",
            "grid_template_areas": null,
            "object_position": null,
            "object_fit": null,
            "grid_auto_columns": null,
            "margin": null,
            "display": null,
            "left": null
          }
        },
        "d1797ed644344f08a3f3d4a4179e3b86": {
          "model_module": "@jupyter-widgets/controls",
          "model_name": "DescriptionStyleModel",
          "state": {
            "_view_name": "StyleView",
            "_model_name": "DescriptionStyleModel",
            "description_width": "",
            "_view_module": "@jupyter-widgets/base",
            "_model_module_version": "1.5.0",
            "_view_count": null,
            "_view_module_version": "1.2.0",
            "_model_module": "@jupyter-widgets/controls"
          }
        },
        "b25d904799274815a5d3f10e7541bdf1": {
          "model_module": "@jupyter-widgets/base",
          "model_name": "LayoutModel",
          "state": {
            "_view_name": "LayoutView",
            "grid_template_rows": null,
            "right": null,
            "justify_content": null,
            "_view_module": "@jupyter-widgets/base",
            "overflow": null,
            "_model_module_version": "1.2.0",
            "_view_count": null,
            "flex_flow": null,
            "width": null,
            "min_width": null,
            "border": null,
            "align_items": null,
            "bottom": null,
            "_model_module": "@jupyter-widgets/base",
            "top": null,
            "grid_column": null,
            "overflow_y": null,
            "overflow_x": null,
            "grid_auto_flow": null,
            "grid_area": null,
            "grid_template_columns": null,
            "flex": null,
            "_model_name": "LayoutModel",
            "justify_items": null,
            "grid_row": null,
            "max_height": null,
            "align_content": null,
            "visibility": null,
            "align_self": null,
            "height": null,
            "min_height": null,
            "padding": null,
            "grid_auto_rows": null,
            "grid_gap": null,
            "max_width": null,
            "order": null,
            "_view_module_version": "1.2.0",
            "grid_template_areas": null,
            "object_position": null,
            "object_fit": null,
            "grid_auto_columns": null,
            "margin": null,
            "display": null,
            "left": null
          }
        },
        "9f59bc0fde314246897d3285b3edbf78": {
          "model_module": "@jupyter-widgets/controls",
          "model_name": "HBoxModel",
          "state": {
            "_view_name": "HBoxView",
            "_dom_classes": [],
            "_model_name": "HBoxModel",
            "_view_module": "@jupyter-widgets/controls",
            "_model_module_version": "1.5.0",
            "_view_count": null,
            "_view_module_version": "1.5.0",
            "box_style": "",
            "layout": "IPY_MODEL_48233e617bf24425b93e6e409a61154a",
            "_model_module": "@jupyter-widgets/controls",
            "children": [
              "IPY_MODEL_af93595876424fe5b0ae164fe268ce5d",
              "IPY_MODEL_34c9853543f142c5a74f0950ccff2326"
            ]
          }
        },
        "48233e617bf24425b93e6e409a61154a": {
          "model_module": "@jupyter-widgets/base",
          "model_name": "LayoutModel",
          "state": {
            "_view_name": "LayoutView",
            "grid_template_rows": null,
            "right": null,
            "justify_content": null,
            "_view_module": "@jupyter-widgets/base",
            "overflow": null,
            "_model_module_version": "1.2.0",
            "_view_count": null,
            "flex_flow": null,
            "width": null,
            "min_width": null,
            "border": null,
            "align_items": null,
            "bottom": null,
            "_model_module": "@jupyter-widgets/base",
            "top": null,
            "grid_column": null,
            "overflow_y": null,
            "overflow_x": null,
            "grid_auto_flow": null,
            "grid_area": null,
            "grid_template_columns": null,
            "flex": null,
            "_model_name": "LayoutModel",
            "justify_items": null,
            "grid_row": null,
            "max_height": null,
            "align_content": null,
            "visibility": null,
            "align_self": null,
            "height": null,
            "min_height": null,
            "padding": null,
            "grid_auto_rows": null,
            "grid_gap": null,
            "max_width": null,
            "order": null,
            "_view_module_version": "1.2.0",
            "grid_template_areas": null,
            "object_position": null,
            "object_fit": null,
            "grid_auto_columns": null,
            "margin": null,
            "display": null,
            "left": null
          }
        },
        "af93595876424fe5b0ae164fe268ce5d": {
          "model_module": "@jupyter-widgets/controls",
          "model_name": "FloatProgressModel",
          "state": {
            "_view_name": "ProgressView",
            "style": "IPY_MODEL_9f417735627b4edda3951be465c785d8",
            "_dom_classes": [],
            "description": "Downloading: 100%",
            "_model_name": "FloatProgressModel",
            "bar_style": "success",
            "max": 1222317369,
            "_view_module": "@jupyter-widgets/controls",
            "_model_module_version": "1.5.0",
            "value": 1222317369,
            "_view_count": null,
            "_view_module_version": "1.5.0",
            "orientation": "horizontal",
            "min": 0,
            "description_tooltip": null,
            "_model_module": "@jupyter-widgets/controls",
            "layout": "IPY_MODEL_b0425b2f54784cf9aa06b3a5ba667de6"
          }
        },
        "34c9853543f142c5a74f0950ccff2326": {
          "model_module": "@jupyter-widgets/controls",
          "model_name": "HTMLModel",
          "state": {
            "_view_name": "HTMLView",
            "style": "IPY_MODEL_a94a676f68c54dcb9f74f6ab5b6bc9ae",
            "_dom_classes": [],
            "description": "",
            "_model_name": "HTMLModel",
            "placeholder": "​",
            "_view_module": "@jupyter-widgets/controls",
            "_model_module_version": "1.5.0",
            "value": " 1.22G/1.22G [00:40&lt;00:00, 30.4MB/s]",
            "_view_count": null,
            "_view_module_version": "1.5.0",
            "description_tooltip": null,
            "_model_module": "@jupyter-widgets/controls",
            "layout": "IPY_MODEL_dfb4229c95844da9873696aed04be36e"
          }
        },
        "9f417735627b4edda3951be465c785d8": {
          "model_module": "@jupyter-widgets/controls",
          "model_name": "ProgressStyleModel",
          "state": {
            "_view_name": "StyleView",
            "_model_name": "ProgressStyleModel",
            "description_width": "initial",
            "_view_module": "@jupyter-widgets/base",
            "_model_module_version": "1.5.0",
            "_view_count": null,
            "_view_module_version": "1.2.0",
            "bar_color": null,
            "_model_module": "@jupyter-widgets/controls"
          }
        },
        "b0425b2f54784cf9aa06b3a5ba667de6": {
          "model_module": "@jupyter-widgets/base",
          "model_name": "LayoutModel",
          "state": {
            "_view_name": "LayoutView",
            "grid_template_rows": null,
            "right": null,
            "justify_content": null,
            "_view_module": "@jupyter-widgets/base",
            "overflow": null,
            "_model_module_version": "1.2.0",
            "_view_count": null,
            "flex_flow": null,
            "width": null,
            "min_width": null,
            "border": null,
            "align_items": null,
            "bottom": null,
            "_model_module": "@jupyter-widgets/base",
            "top": null,
            "grid_column": null,
            "overflow_y": null,
            "overflow_x": null,
            "grid_auto_flow": null,
            "grid_area": null,
            "grid_template_columns": null,
            "flex": null,
            "_model_name": "LayoutModel",
            "justify_items": null,
            "grid_row": null,
            "max_height": null,
            "align_content": null,
            "visibility": null,
            "align_self": null,
            "height": null,
            "min_height": null,
            "padding": null,
            "grid_auto_rows": null,
            "grid_gap": null,
            "max_width": null,
            "order": null,
            "_view_module_version": "1.2.0",
            "grid_template_areas": null,
            "object_position": null,
            "object_fit": null,
            "grid_auto_columns": null,
            "margin": null,
            "display": null,
            "left": null
          }
        },
        "a94a676f68c54dcb9f74f6ab5b6bc9ae": {
          "model_module": "@jupyter-widgets/controls",
          "model_name": "DescriptionStyleModel",
          "state": {
            "_view_name": "StyleView",
            "_model_name": "DescriptionStyleModel",
            "description_width": "",
            "_view_module": "@jupyter-widgets/base",
            "_model_module_version": "1.5.0",
            "_view_count": null,
            "_view_module_version": "1.2.0",
            "_model_module": "@jupyter-widgets/controls"
          }
        },
        "dfb4229c95844da9873696aed04be36e": {
          "model_module": "@jupyter-widgets/base",
          "model_name": "LayoutModel",
          "state": {
            "_view_name": "LayoutView",
            "grid_template_rows": null,
            "right": null,
            "justify_content": null,
            "_view_module": "@jupyter-widgets/base",
            "overflow": null,
            "_model_module_version": "1.2.0",
            "_view_count": null,
            "flex_flow": null,
            "width": null,
            "min_width": null,
            "border": null,
            "align_items": null,
            "bottom": null,
            "_model_module": "@jupyter-widgets/base",
            "top": null,
            "grid_column": null,
            "overflow_y": null,
            "overflow_x": null,
            "grid_auto_flow": null,
            "grid_area": null,
            "grid_template_columns": null,
            "flex": null,
            "_model_name": "LayoutModel",
            "justify_items": null,
            "grid_row": null,
            "max_height": null,
            "align_content": null,
            "visibility": null,
            "align_self": null,
            "height": null,
            "min_height": null,
            "padding": null,
            "grid_auto_rows": null,
            "grid_gap": null,
            "max_width": null,
            "order": null,
            "_view_module_version": "1.2.0",
            "grid_template_areas": null,
            "object_position": null,
            "object_fit": null,
            "grid_auto_columns": null,
            "margin": null,
            "display": null,
            "left": null
          }
        },
        "f1334625f6e34308bd723d2568176ed4": {
          "model_module": "@jupyter-widgets/controls",
          "model_name": "HBoxModel",
          "state": {
            "_view_name": "HBoxView",
            "_dom_classes": [],
            "_model_name": "HBoxModel",
            "_view_module": "@jupyter-widgets/controls",
            "_model_module_version": "1.5.0",
            "_view_count": null,
            "_view_module_version": "1.5.0",
            "box_style": "",
            "layout": "IPY_MODEL_b09dacc64f614c78a316c02ae25984d0",
            "_model_module": "@jupyter-widgets/controls",
            "children": [
              "IPY_MODEL_6398df00c77f4998be494853455e4cc0",
              "IPY_MODEL_2c8d0aeff18a4b9dadc591a5e02934dc"
            ]
          }
        },
        "b09dacc64f614c78a316c02ae25984d0": {
          "model_module": "@jupyter-widgets/base",
          "model_name": "LayoutModel",
          "state": {
            "_view_name": "LayoutView",
            "grid_template_rows": null,
            "right": null,
            "justify_content": null,
            "_view_module": "@jupyter-widgets/base",
            "overflow": null,
            "_model_module_version": "1.2.0",
            "_view_count": null,
            "flex_flow": null,
            "width": null,
            "min_width": null,
            "border": null,
            "align_items": null,
            "bottom": null,
            "_model_module": "@jupyter-widgets/base",
            "top": null,
            "grid_column": null,
            "overflow_y": null,
            "overflow_x": null,
            "grid_auto_flow": null,
            "grid_area": null,
            "grid_template_columns": null,
            "flex": null,
            "_model_name": "LayoutModel",
            "justify_items": null,
            "grid_row": null,
            "max_height": null,
            "align_content": null,
            "visibility": null,
            "align_self": null,
            "height": null,
            "min_height": null,
            "padding": null,
            "grid_auto_rows": null,
            "grid_gap": null,
            "max_width": null,
            "order": null,
            "_view_module_version": "1.2.0",
            "grid_template_areas": null,
            "object_position": null,
            "object_fit": null,
            "grid_auto_columns": null,
            "margin": null,
            "display": null,
            "left": null
          }
        },
        "6398df00c77f4998be494853455e4cc0": {
          "model_module": "@jupyter-widgets/controls",
          "model_name": "FloatProgressModel",
          "state": {
            "_view_name": "ProgressView",
            "style": "IPY_MODEL_a2fe3d8b8de148f9a08b55fc7b78023a",
            "_dom_classes": [],
            "description": "Downloading: 100%",
            "_model_name": "FloatProgressModel",
            "bar_style": "success",
            "max": 898822,
            "_view_module": "@jupyter-widgets/controls",
            "_model_module_version": "1.5.0",
            "value": 898822,
            "_view_count": null,
            "_view_module_version": "1.5.0",
            "orientation": "horizontal",
            "min": 0,
            "description_tooltip": null,
            "_model_module": "@jupyter-widgets/controls",
            "layout": "IPY_MODEL_e47b5b52d2784bbcadadf6dbb35de8ec"
          }
        },
        "2c8d0aeff18a4b9dadc591a5e02934dc": {
          "model_module": "@jupyter-widgets/controls",
          "model_name": "HTMLModel",
          "state": {
            "_view_name": "HTMLView",
            "style": "IPY_MODEL_50b6c391bd414d95bd1f23f646bae267",
            "_dom_classes": [],
            "description": "",
            "_model_name": "HTMLModel",
            "placeholder": "​",
            "_view_module": "@jupyter-widgets/controls",
            "_model_module_version": "1.5.0",
            "value": " 899k/899k [00:00&lt;00:00, 3.47MB/s]",
            "_view_count": null,
            "_view_module_version": "1.5.0",
            "description_tooltip": null,
            "_model_module": "@jupyter-widgets/controls",
            "layout": "IPY_MODEL_6e281846e5a5405eb2793f5a055c6e10"
          }
        },
        "a2fe3d8b8de148f9a08b55fc7b78023a": {
          "model_module": "@jupyter-widgets/controls",
          "model_name": "ProgressStyleModel",
          "state": {
            "_view_name": "StyleView",
            "_model_name": "ProgressStyleModel",
            "description_width": "initial",
            "_view_module": "@jupyter-widgets/base",
            "_model_module_version": "1.5.0",
            "_view_count": null,
            "_view_module_version": "1.2.0",
            "bar_color": null,
            "_model_module": "@jupyter-widgets/controls"
          }
        },
        "e47b5b52d2784bbcadadf6dbb35de8ec": {
          "model_module": "@jupyter-widgets/base",
          "model_name": "LayoutModel",
          "state": {
            "_view_name": "LayoutView",
            "grid_template_rows": null,
            "right": null,
            "justify_content": null,
            "_view_module": "@jupyter-widgets/base",
            "overflow": null,
            "_model_module_version": "1.2.0",
            "_view_count": null,
            "flex_flow": null,
            "width": null,
            "min_width": null,
            "border": null,
            "align_items": null,
            "bottom": null,
            "_model_module": "@jupyter-widgets/base",
            "top": null,
            "grid_column": null,
            "overflow_y": null,
            "overflow_x": null,
            "grid_auto_flow": null,
            "grid_area": null,
            "grid_template_columns": null,
            "flex": null,
            "_model_name": "LayoutModel",
            "justify_items": null,
            "grid_row": null,
            "max_height": null,
            "align_content": null,
            "visibility": null,
            "align_self": null,
            "height": null,
            "min_height": null,
            "padding": null,
            "grid_auto_rows": null,
            "grid_gap": null,
            "max_width": null,
            "order": null,
            "_view_module_version": "1.2.0",
            "grid_template_areas": null,
            "object_position": null,
            "object_fit": null,
            "grid_auto_columns": null,
            "margin": null,
            "display": null,
            "left": null
          }
        },
        "50b6c391bd414d95bd1f23f646bae267": {
          "model_module": "@jupyter-widgets/controls",
          "model_name": "DescriptionStyleModel",
          "state": {
            "_view_name": "StyleView",
            "_model_name": "DescriptionStyleModel",
            "description_width": "",
            "_view_module": "@jupyter-widgets/base",
            "_model_module_version": "1.5.0",
            "_view_count": null,
            "_view_module_version": "1.2.0",
            "_model_module": "@jupyter-widgets/controls"
          }
        },
        "6e281846e5a5405eb2793f5a055c6e10": {
          "model_module": "@jupyter-widgets/base",
          "model_name": "LayoutModel",
          "state": {
            "_view_name": "LayoutView",
            "grid_template_rows": null,
            "right": null,
            "justify_content": null,
            "_view_module": "@jupyter-widgets/base",
            "overflow": null,
            "_model_module_version": "1.2.0",
            "_view_count": null,
            "flex_flow": null,
            "width": null,
            "min_width": null,
            "border": null,
            "align_items": null,
            "bottom": null,
            "_model_module": "@jupyter-widgets/base",
            "top": null,
            "grid_column": null,
            "overflow_y": null,
            "overflow_x": null,
            "grid_auto_flow": null,
            "grid_area": null,
            "grid_template_columns": null,
            "flex": null,
            "_model_name": "LayoutModel",
            "justify_items": null,
            "grid_row": null,
            "max_height": null,
            "align_content": null,
            "visibility": null,
            "align_self": null,
            "height": null,
            "min_height": null,
            "padding": null,
            "grid_auto_rows": null,
            "grid_gap": null,
            "max_width": null,
            "order": null,
            "_view_module_version": "1.2.0",
            "grid_template_areas": null,
            "object_position": null,
            "object_fit": null,
            "grid_auto_columns": null,
            "margin": null,
            "display": null,
            "left": null
          }
        },
        "0caa38f1e3714770bd466223eb83200d": {
          "model_module": "@jupyter-widgets/controls",
          "model_name": "HBoxModel",
          "state": {
            "_view_name": "HBoxView",
            "_dom_classes": [],
            "_model_name": "HBoxModel",
            "_view_module": "@jupyter-widgets/controls",
            "_model_module_version": "1.5.0",
            "_view_count": null,
            "_view_module_version": "1.5.0",
            "box_style": "",
            "layout": "IPY_MODEL_e68ef71abea44880a5a5fa6902ec60a5",
            "_model_module": "@jupyter-widgets/controls",
            "children": [
              "IPY_MODEL_b493bd27d6b946d7a0af522547f649c6",
              "IPY_MODEL_c265dba32aba494d87f5bee5acb5b82c"
            ]
          }
        },
        "e68ef71abea44880a5a5fa6902ec60a5": {
          "model_module": "@jupyter-widgets/base",
          "model_name": "LayoutModel",
          "state": {
            "_view_name": "LayoutView",
            "grid_template_rows": null,
            "right": null,
            "justify_content": null,
            "_view_module": "@jupyter-widgets/base",
            "overflow": null,
            "_model_module_version": "1.2.0",
            "_view_count": null,
            "flex_flow": null,
            "width": null,
            "min_width": null,
            "border": null,
            "align_items": null,
            "bottom": null,
            "_model_module": "@jupyter-widgets/base",
            "top": null,
            "grid_column": null,
            "overflow_y": null,
            "overflow_x": null,
            "grid_auto_flow": null,
            "grid_area": null,
            "grid_template_columns": null,
            "flex": null,
            "_model_name": "LayoutModel",
            "justify_items": null,
            "grid_row": null,
            "max_height": null,
            "align_content": null,
            "visibility": null,
            "align_self": null,
            "height": null,
            "min_height": null,
            "padding": null,
            "grid_auto_rows": null,
            "grid_gap": null,
            "max_width": null,
            "order": null,
            "_view_module_version": "1.2.0",
            "grid_template_areas": null,
            "object_position": null,
            "object_fit": null,
            "grid_auto_columns": null,
            "margin": null,
            "display": null,
            "left": null
          }
        },
        "b493bd27d6b946d7a0af522547f649c6": {
          "model_module": "@jupyter-widgets/controls",
          "model_name": "FloatProgressModel",
          "state": {
            "_view_name": "ProgressView",
            "style": "IPY_MODEL_aee2f40a211b479fb7aef446e8f58b4b",
            "_dom_classes": [],
            "description": "Downloading: 100%",
            "_model_name": "FloatProgressModel",
            "bar_style": "success",
            "max": 456318,
            "_view_module": "@jupyter-widgets/controls",
            "_model_module_version": "1.5.0",
            "value": 456318,
            "_view_count": null,
            "_view_module_version": "1.5.0",
            "orientation": "horizontal",
            "min": 0,
            "description_tooltip": null,
            "_model_module": "@jupyter-widgets/controls",
            "layout": "IPY_MODEL_60bbac86dc6a4c6983c55957c1e387cc"
          }
        },
        "c265dba32aba494d87f5bee5acb5b82c": {
          "model_module": "@jupyter-widgets/controls",
          "model_name": "HTMLModel",
          "state": {
            "_view_name": "HTMLView",
            "style": "IPY_MODEL_8792d86f6cf34ca4ba1a9fe3293e2bc5",
            "_dom_classes": [],
            "description": "",
            "_model_name": "HTMLModel",
            "placeholder": "​",
            "_view_module": "@jupyter-widgets/controls",
            "_model_module_version": "1.5.0",
            "value": " 456k/456k [00:00&lt;00:00, 3.02MB/s]",
            "_view_count": null,
            "_view_module_version": "1.5.0",
            "description_tooltip": null,
            "_model_module": "@jupyter-widgets/controls",
            "layout": "IPY_MODEL_1a07f75ad26c4ea7b4bf6d017b36529e"
          }
        },
        "aee2f40a211b479fb7aef446e8f58b4b": {
          "model_module": "@jupyter-widgets/controls",
          "model_name": "ProgressStyleModel",
          "state": {
            "_view_name": "StyleView",
            "_model_name": "ProgressStyleModel",
            "description_width": "initial",
            "_view_module": "@jupyter-widgets/base",
            "_model_module_version": "1.5.0",
            "_view_count": null,
            "_view_module_version": "1.2.0",
            "bar_color": null,
            "_model_module": "@jupyter-widgets/controls"
          }
        },
        "60bbac86dc6a4c6983c55957c1e387cc": {
          "model_module": "@jupyter-widgets/base",
          "model_name": "LayoutModel",
          "state": {
            "_view_name": "LayoutView",
            "grid_template_rows": null,
            "right": null,
            "justify_content": null,
            "_view_module": "@jupyter-widgets/base",
            "overflow": null,
            "_model_module_version": "1.2.0",
            "_view_count": null,
            "flex_flow": null,
            "width": null,
            "min_width": null,
            "border": null,
            "align_items": null,
            "bottom": null,
            "_model_module": "@jupyter-widgets/base",
            "top": null,
            "grid_column": null,
            "overflow_y": null,
            "overflow_x": null,
            "grid_auto_flow": null,
            "grid_area": null,
            "grid_template_columns": null,
            "flex": null,
            "_model_name": "LayoutModel",
            "justify_items": null,
            "grid_row": null,
            "max_height": null,
            "align_content": null,
            "visibility": null,
            "align_self": null,
            "height": null,
            "min_height": null,
            "padding": null,
            "grid_auto_rows": null,
            "grid_gap": null,
            "max_width": null,
            "order": null,
            "_view_module_version": "1.2.0",
            "grid_template_areas": null,
            "object_position": null,
            "object_fit": null,
            "grid_auto_columns": null,
            "margin": null,
            "display": null,
            "left": null
          }
        },
        "8792d86f6cf34ca4ba1a9fe3293e2bc5": {
          "model_module": "@jupyter-widgets/controls",
          "model_name": "DescriptionStyleModel",
          "state": {
            "_view_name": "StyleView",
            "_model_name": "DescriptionStyleModel",
            "description_width": "",
            "_view_module": "@jupyter-widgets/base",
            "_model_module_version": "1.5.0",
            "_view_count": null,
            "_view_module_version": "1.2.0",
            "_model_module": "@jupyter-widgets/controls"
          }
        },
        "1a07f75ad26c4ea7b4bf6d017b36529e": {
          "model_module": "@jupyter-widgets/base",
          "model_name": "LayoutModel",
          "state": {
            "_view_name": "LayoutView",
            "grid_template_rows": null,
            "right": null,
            "justify_content": null,
            "_view_module": "@jupyter-widgets/base",
            "overflow": null,
            "_model_module_version": "1.2.0",
            "_view_count": null,
            "flex_flow": null,
            "width": null,
            "min_width": null,
            "border": null,
            "align_items": null,
            "bottom": null,
            "_model_module": "@jupyter-widgets/base",
            "top": null,
            "grid_column": null,
            "overflow_y": null,
            "overflow_x": null,
            "grid_auto_flow": null,
            "grid_area": null,
            "grid_template_columns": null,
            "flex": null,
            "_model_name": "LayoutModel",
            "justify_items": null,
            "grid_row": null,
            "max_height": null,
            "align_content": null,
            "visibility": null,
            "align_self": null,
            "height": null,
            "min_height": null,
            "padding": null,
            "grid_auto_rows": null,
            "grid_gap": null,
            "max_width": null,
            "order": null,
            "_view_module_version": "1.2.0",
            "grid_template_areas": null,
            "object_position": null,
            "object_fit": null,
            "grid_auto_columns": null,
            "margin": null,
            "display": null,
            "left": null
          }
        },
        "2c927e8e2fa04bfe99fd677b2dbaf2fd": {
          "model_module": "@jupyter-widgets/controls",
          "model_name": "HBoxModel",
          "state": {
            "_view_name": "HBoxView",
            "_dom_classes": [],
            "_model_name": "HBoxModel",
            "_view_module": "@jupyter-widgets/controls",
            "_model_module_version": "1.5.0",
            "_view_count": null,
            "_view_module_version": "1.5.0",
            "box_style": "",
            "layout": "IPY_MODEL_dcdb0c7f4c564d30a602f91a184bbc49",
            "_model_module": "@jupyter-widgets/controls",
            "children": [
              "IPY_MODEL_4efff866e4f84075b6ef651735a5287f",
              "IPY_MODEL_22fa603c3efb4f72849a11cc8f59880d"
            ]
          }
        },
        "dcdb0c7f4c564d30a602f91a184bbc49": {
          "model_module": "@jupyter-widgets/base",
          "model_name": "LayoutModel",
          "state": {
            "_view_name": "LayoutView",
            "grid_template_rows": null,
            "right": null,
            "justify_content": null,
            "_view_module": "@jupyter-widgets/base",
            "overflow": null,
            "_model_module_version": "1.2.0",
            "_view_count": null,
            "flex_flow": null,
            "width": null,
            "min_width": null,
            "border": null,
            "align_items": null,
            "bottom": null,
            "_model_module": "@jupyter-widgets/base",
            "top": null,
            "grid_column": null,
            "overflow_y": null,
            "overflow_x": null,
            "grid_auto_flow": null,
            "grid_area": null,
            "grid_template_columns": null,
            "flex": null,
            "_model_name": "LayoutModel",
            "justify_items": null,
            "grid_row": null,
            "max_height": null,
            "align_content": null,
            "visibility": null,
            "align_self": null,
            "height": null,
            "min_height": null,
            "padding": null,
            "grid_auto_rows": null,
            "grid_gap": null,
            "max_width": null,
            "order": null,
            "_view_module_version": "1.2.0",
            "grid_template_areas": null,
            "object_position": null,
            "object_fit": null,
            "grid_auto_columns": null,
            "margin": null,
            "display": null,
            "left": null
          }
        },
        "4efff866e4f84075b6ef651735a5287f": {
          "model_module": "@jupyter-widgets/controls",
          "model_name": "FloatProgressModel",
          "state": {
            "_view_name": "ProgressView",
            "style": "IPY_MODEL_4ac1f27bf19544c5809e8253de1428fb",
            "_dom_classes": [],
            "description": "Downloading: 100%",
            "_model_name": "FloatProgressModel",
            "bar_style": "success",
            "max": 26,
            "_view_module": "@jupyter-widgets/controls",
            "_model_module_version": "1.5.0",
            "value": 26,
            "_view_count": null,
            "_view_module_version": "1.5.0",
            "orientation": "horizontal",
            "min": 0,
            "description_tooltip": null,
            "_model_module": "@jupyter-widgets/controls",
            "layout": "IPY_MODEL_9a410a164b39487f8e7375f26dfc4277"
          }
        },
        "22fa603c3efb4f72849a11cc8f59880d": {
          "model_module": "@jupyter-widgets/controls",
          "model_name": "HTMLModel",
          "state": {
            "_view_name": "HTMLView",
            "style": "IPY_MODEL_80a9e9a416f24eb5bab26df5836976db",
            "_dom_classes": [],
            "description": "",
            "_model_name": "HTMLModel",
            "placeholder": "​",
            "_view_module": "@jupyter-widgets/controls",
            "_model_module_version": "1.5.0",
            "value": " 26.0/26.0 [00:00&lt;00:00, 264B/s]",
            "_view_count": null,
            "_view_module_version": "1.5.0",
            "description_tooltip": null,
            "_model_module": "@jupyter-widgets/controls",
            "layout": "IPY_MODEL_db6e55811cbf414291fe5ed6b07912fa"
          }
        },
        "4ac1f27bf19544c5809e8253de1428fb": {
          "model_module": "@jupyter-widgets/controls",
          "model_name": "ProgressStyleModel",
          "state": {
            "_view_name": "StyleView",
            "_model_name": "ProgressStyleModel",
            "description_width": "initial",
            "_view_module": "@jupyter-widgets/base",
            "_model_module_version": "1.5.0",
            "_view_count": null,
            "_view_module_version": "1.2.0",
            "bar_color": null,
            "_model_module": "@jupyter-widgets/controls"
          }
        },
        "9a410a164b39487f8e7375f26dfc4277": {
          "model_module": "@jupyter-widgets/base",
          "model_name": "LayoutModel",
          "state": {
            "_view_name": "LayoutView",
            "grid_template_rows": null,
            "right": null,
            "justify_content": null,
            "_view_module": "@jupyter-widgets/base",
            "overflow": null,
            "_model_module_version": "1.2.0",
            "_view_count": null,
            "flex_flow": null,
            "width": null,
            "min_width": null,
            "border": null,
            "align_items": null,
            "bottom": null,
            "_model_module": "@jupyter-widgets/base",
            "top": null,
            "grid_column": null,
            "overflow_y": null,
            "overflow_x": null,
            "grid_auto_flow": null,
            "grid_area": null,
            "grid_template_columns": null,
            "flex": null,
            "_model_name": "LayoutModel",
            "justify_items": null,
            "grid_row": null,
            "max_height": null,
            "align_content": null,
            "visibility": null,
            "align_self": null,
            "height": null,
            "min_height": null,
            "padding": null,
            "grid_auto_rows": null,
            "grid_gap": null,
            "max_width": null,
            "order": null,
            "_view_module_version": "1.2.0",
            "grid_template_areas": null,
            "object_position": null,
            "object_fit": null,
            "grid_auto_columns": null,
            "margin": null,
            "display": null,
            "left": null
          }
        },
        "80a9e9a416f24eb5bab26df5836976db": {
          "model_module": "@jupyter-widgets/controls",
          "model_name": "DescriptionStyleModel",
          "state": {
            "_view_name": "StyleView",
            "_model_name": "DescriptionStyleModel",
            "description_width": "",
            "_view_module": "@jupyter-widgets/base",
            "_model_module_version": "1.5.0",
            "_view_count": null,
            "_view_module_version": "1.2.0",
            "_model_module": "@jupyter-widgets/controls"
          }
        },
        "db6e55811cbf414291fe5ed6b07912fa": {
          "model_module": "@jupyter-widgets/base",
          "model_name": "LayoutModel",
          "state": {
            "_view_name": "LayoutView",
            "grid_template_rows": null,
            "right": null,
            "justify_content": null,
            "_view_module": "@jupyter-widgets/base",
            "overflow": null,
            "_model_module_version": "1.2.0",
            "_view_count": null,
            "flex_flow": null,
            "width": null,
            "min_width": null,
            "border": null,
            "align_items": null,
            "bottom": null,
            "_model_module": "@jupyter-widgets/base",
            "top": null,
            "grid_column": null,
            "overflow_y": null,
            "overflow_x": null,
            "grid_auto_flow": null,
            "grid_area": null,
            "grid_template_columns": null,
            "flex": null,
            "_model_name": "LayoutModel",
            "justify_items": null,
            "grid_row": null,
            "max_height": null,
            "align_content": null,
            "visibility": null,
            "align_self": null,
            "height": null,
            "min_height": null,
            "padding": null,
            "grid_auto_rows": null,
            "grid_gap": null,
            "max_width": null,
            "order": null,
            "_view_module_version": "1.2.0",
            "grid_template_areas": null,
            "object_position": null,
            "object_fit": null,
            "grid_auto_columns": null,
            "margin": null,
            "display": null,
            "left": null
          }
        }
      }
    }
  },
  "cells": [
    {
      "cell_type": "markdown",
      "metadata": {
        "id": "view-in-github",
        "colab_type": "text"
      },
      "source": [
        "<a href=\"https://colab.research.google.com/github/rishavjain4/g_comp/blob/main/InputClean_PreEvaluation.ipynb\" target=\"_parent\"><img src=\"https://colab.research.google.com/assets/colab-badge.svg\" alt=\"Open In Colab\"/></a>"
      ]
    },
    {
      "cell_type": "code",
      "metadata": {
        "id": "wyLvJcrAvsGu",
        "colab": {
          "base_uri": "https://localhost:8080/"
        },
        "outputId": "4fe510c3-5af5-4790-da5e-a361536db029"
      },
      "source": [
        "#installing pandas\n",
        "!pip install pandas\n",
        "!pip install nltk\n",
        "!pip install transformers torch\n",
        "#!pip install bert-extractive-summarizer\n",
        "\n",
        "#import spacy\n",
        "import nltk\n",
        "nltk.download('punkt')\n",
        "###\n",
        "#nlp = spacy.load('en')\n",
        "import pandas as pd\n",
        "import csv\n",
        "#!pip install transformers==2.5.0\n",
        "###\n",
        "#from spacy.lang.en.stop_words import STOP_WORDS\n",
        "from string import punctuation\n",
        "#stopwords = list(STOP_WORDS)\n"
      ],
      "execution_count": null,
      "outputs": [
        {
          "output_type": "stream",
          "text": [
            "Requirement already satisfied: pandas in /usr/local/lib/python3.6/dist-packages (1.1.4)\n",
            "Requirement already satisfied: pytz>=2017.2 in /usr/local/lib/python3.6/dist-packages (from pandas) (2018.9)\n",
            "Requirement already satisfied: python-dateutil>=2.7.3 in /usr/local/lib/python3.6/dist-packages (from pandas) (2.8.1)\n",
            "Requirement already satisfied: numpy>=1.15.4 in /usr/local/lib/python3.6/dist-packages (from pandas) (1.18.5)\n",
            "Requirement already satisfied: six>=1.5 in /usr/local/lib/python3.6/dist-packages (from python-dateutil>=2.7.3->pandas) (1.15.0)\n",
            "Requirement already satisfied: nltk in /usr/local/lib/python3.6/dist-packages (3.2.5)\n",
            "Requirement already satisfied: six in /usr/local/lib/python3.6/dist-packages (from nltk) (1.15.0)\n",
            "Requirement already satisfied: transformers in /usr/local/lib/python3.6/dist-packages (4.0.0)\n",
            "Requirement already satisfied: torch in /usr/local/lib/python3.6/dist-packages (1.7.0+cu101)\n",
            "Requirement already satisfied: dataclasses; python_version < \"3.7\" in /usr/local/lib/python3.6/dist-packages (from transformers) (0.8)\n",
            "Requirement already satisfied: sacremoses in /usr/local/lib/python3.6/dist-packages (from transformers) (0.0.43)\n",
            "Requirement already satisfied: requests in /usr/local/lib/python3.6/dist-packages (from transformers) (2.23.0)\n",
            "Requirement already satisfied: packaging in /usr/local/lib/python3.6/dist-packages (from transformers) (20.4)\n",
            "Requirement already satisfied: filelock in /usr/local/lib/python3.6/dist-packages (from transformers) (3.0.12)\n",
            "Requirement already satisfied: regex!=2019.12.17 in /usr/local/lib/python3.6/dist-packages (from transformers) (2019.12.20)\n",
            "Requirement already satisfied: tokenizers==0.9.4 in /usr/local/lib/python3.6/dist-packages (from transformers) (0.9.4)\n",
            "Requirement already satisfied: numpy in /usr/local/lib/python3.6/dist-packages (from transformers) (1.18.5)\n",
            "Requirement already satisfied: tqdm>=4.27 in /usr/local/lib/python3.6/dist-packages (from transformers) (4.41.1)\n",
            "Requirement already satisfied: typing-extensions in /usr/local/lib/python3.6/dist-packages (from torch) (3.7.4.3)\n",
            "Requirement already satisfied: future in /usr/local/lib/python3.6/dist-packages (from torch) (0.16.0)\n",
            "Requirement already satisfied: six in /usr/local/lib/python3.6/dist-packages (from sacremoses->transformers) (1.15.0)\n",
            "Requirement already satisfied: click in /usr/local/lib/python3.6/dist-packages (from sacremoses->transformers) (7.1.2)\n",
            "Requirement already satisfied: joblib in /usr/local/lib/python3.6/dist-packages (from sacremoses->transformers) (0.17.0)\n",
            "Requirement already satisfied: chardet<4,>=3.0.2 in /usr/local/lib/python3.6/dist-packages (from requests->transformers) (3.0.4)\n",
            "Requirement already satisfied: idna<3,>=2.5 in /usr/local/lib/python3.6/dist-packages (from requests->transformers) (2.10)\n",
            "Requirement already satisfied: certifi>=2017.4.17 in /usr/local/lib/python3.6/dist-packages (from requests->transformers) (2020.11.8)\n",
            "Requirement already satisfied: urllib3!=1.25.0,!=1.25.1,<1.26,>=1.21.1 in /usr/local/lib/python3.6/dist-packages (from requests->transformers) (1.24.3)\n",
            "Requirement already satisfied: pyparsing>=2.0.2 in /usr/local/lib/python3.6/dist-packages (from packaging->transformers) (2.4.7)\n",
            "[nltk_data] Downloading package punkt to /root/nltk_data...\n",
            "[nltk_data]   Package punkt is already up-to-date!\n"
          ],
          "name": "stdout"
        }
      ]
    },
    {
      "cell_type": "code",
      "metadata": {
        "colab": {
          "base_uri": "https://localhost:8080/"
        },
        "id": "NkYjNOvaC02v",
        "outputId": "4cfd76d1-ea73-46b3-f249-d6bab3c9806e"
      },
      "source": [
        "from nltk.corpus import stopwords\n",
        "nltk.download('stopwords')\n",
        "stopwords = list(stopwords.words('english'))"
      ],
      "execution_count": null,
      "outputs": [
        {
          "output_type": "stream",
          "text": [
            "[nltk_data] Downloading package stopwords to /root/nltk_data...\n",
            "[nltk_data]   Package stopwords is already up-to-date!\n"
          ],
          "name": "stdout"
        }
      ]
    },
    {
      "cell_type": "code",
      "metadata": {
        "colab": {
          "base_uri": "https://localhost:8080/"
        },
        "id": "v2L800YXenpF",
        "outputId": "a6827681-24e0-481c-f7a1-f7e9c57cff1c"
      },
      "source": [
        "#nltk.download('wordnet')\n",
        "nltk.download('vader_lexicon')"
      ],
      "execution_count": null,
      "outputs": [
        {
          "output_type": "stream",
          "text": [
            "[nltk_data] Downloading package vader_lexicon to /root/nltk_data...\n"
          ],
          "name": "stdout"
        },
        {
          "output_type": "execute_result",
          "data": {
            "text/plain": [
              "True"
            ]
          },
          "metadata": {
            "tags": []
          },
          "execution_count": 5
        }
      ]
    },
    {
      "cell_type": "code",
      "metadata": {
        "colab": {
          "resources": {
            "http://localhost:8080/nbextensions/google.colab/files.js": {
              "data": "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",
              "ok": true,
              "headers": [
                [
                  "content-type",
                  "application/javascript"
                ]
              ],
              "status": 200,
              "status_text": ""
            }
          },
          "base_uri": "https://localhost:8080/",
          "height": 73
        },
        "id": "lnOlXQJ321R2",
        "outputId": "e986dd7b-3cc8-4703-92c1-e2710c07381b"
      },
      "source": [
        "#uploading the dump file, because cannot access it with link directly\n",
        "from google.colab import files\n",
        "uploaded = files.upload()\n",
        "#done"
      ],
      "execution_count": null,
      "outputs": [
        {
          "output_type": "display_data",
          "data": {
            "text/html": [
              "\n",
              "     <input type=\"file\" id=\"files-5845318d-0475-4db2-ab40-2272ca96b1f1\" name=\"files[]\" multiple disabled\n",
              "        style=\"border:none\" />\n",
              "     <output id=\"result-5845318d-0475-4db2-ab40-2272ca96b1f1\">\n",
              "      Upload widget is only available when the cell has been executed in the\n",
              "      current browser session. Please rerun this cell to enable.\n",
              "      </output>\n",
              "      <script src=\"/nbextensions/google.colab/files.js\"></script> "
            ],
            "text/plain": [
              "<IPython.core.display.HTML object>"
            ]
          },
          "metadata": {
            "tags": []
          }
        },
        {
          "output_type": "stream",
          "text": [
            "Saving tweetset_1.csv to tweetset_1.csv\n"
          ],
          "name": "stdout"
        }
      ]
    },
    {
      "cell_type": "code",
      "metadata": {
        "id": "qV1EqVzFyxeE"
      },
      "source": [
        "#reading the csv file, & because no headers\n",
        "df = pd.read_csv('tweetset_1.csv', encoding='utf-8')\n"
      ],
      "execution_count": null,
      "outputs": []
    },
    {
      "cell_type": "code",
      "metadata": {
        "id": "-EBSm7VJFp9r"
      },
      "source": [
        "# cleaning tools - \n",
        "# making tolower()\n",
        "import re\n",
        "# remove punctuation: & donot remove numbers ...\n",
        "punct = \"!#$%&\\'()*+,-./:;<=>?@[\\\\]^_`{|}~\"\n",
        "\n",
        "def remove_punct(text):\n",
        "    text = ' '.join(word for word in text.split(' ') if not word.startswith('#' or \"@\"))\n",
        "    text  = \"\".join([char for char in text if char not in punct])\n",
        "    text = re.sub('[0-9]+', '', text)\n",
        "    return text\n",
        "\n",
        "# removing emojis\n",
        "def remove_emoji(string):\n",
        "    emoji_pattern = re.compile(\"[\"\n",
        "                           u\"\\U0001F600-\\U0001F64F\"  \n",
        "                           u\"\\U0001F300-\\U0001F5FF\"  \n",
        "                           u\"\\U0001F680-\\U0001F6FF\"  \n",
        "                           u\"\\U0001F1E0-\\U0001F1FF\"  # flags (iOS)\n",
        "                           u\"\\U00002702-\\U000027B0\"\n",
        "                           u\"\\U000024C2-\\U0001F251\"\n",
        "                           \"]+\", flags=re.UNICODE)\n",
        "    return emoji_pattern.sub(r'', string)\n",
        "#stopword = nltk.corpus.stopwords.words('english')\n",
        "def remove_stopwords(text):\n",
        "    text = [word for word in text if word not in stopwords]\n",
        "    return text\n",
        "\n",
        "def cleanstring(text):\n",
        "  text = remove_punct(text)\n",
        "  text = remove_emoji(text)\n",
        "  return text\n",
        "\n",
        "def clean_doc(text):\n",
        "  text = remove_punct(text)\n",
        "  #print(text)\n",
        "  text = remove_emoji(text)\n",
        "  #print(text)\n",
        "  ttext = tokenization(text)\n",
        "  #print(ttext)\n",
        "  ttext = remove_stopwords(ttext)\n",
        "  #print(ttext)\n",
        "  ttext = lemmatizer(ttext)\n",
        "  return ttext\n"
      ],
      "execution_count": null,
      "outputs": []
    },
    {
      "cell_type": "code",
      "metadata": {
        "id": "9kdrw_6hFYSK"
      },
      "source": [
        "# algo functions - \n",
        "\n",
        "def analyse(sentence):\n",
        "  from nltk.sentiment.vader import SentimentIntensityAnalyzer\n",
        "  ss = SentimentIntensityAnalyzer().polarity_scores(sentence)\n",
        "  return (ss.get(\"pos\"))\n",
        "\n",
        "def extracthashtags(s):\n",
        "    listt = []\n",
        "    ans = []\n",
        "    listt =  set(part[1:] for part in s.split() if part.startswith('#'))\n",
        "    for l in listt:\n",
        "      ans.append(str(l))\n",
        "    return ans\n",
        "    dis = nltk.FreqDist(listt)\n",
        "    listt = dis.most_common(min(int(len(listt)), 4))\n",
        "  \n",
        "\n"
      ],
      "execution_count": null,
      "outputs": []
    },
    {
      "cell_type": "markdown",
      "metadata": {
        "id": "DLQCiJViFY34"
      },
      "source": [
        " - --- - - - - - - - - - - -- - - - -- -- - - -  -"
      ]
    },
    {
      "cell_type": "code",
      "metadata": {
        "id": "2KLiDpejVxqj"
      },
      "source": [
        "final = pd.DataFrame() \n",
        "final['zipcode'] = df[\"cord\"]\n",
        "final['tweets'] = df[\"content\"]\n",
        "final['time'] = df[\"createdat\"]"
      ],
      "execution_count": null,
      "outputs": []
    },
    {
      "cell_type": "code",
      "metadata": {
        "id": "Tan1j9ePW-MH"
      },
      "source": [
        "\n",
        "final[\"zipcode\"] = final[\"zipcode\"].astype(dtype=\"str\")\n",
        "final[\"tweets\"] = final[\"tweets\"].astype(dtype=\"str\")"
      ],
      "execution_count": null,
      "outputs": []
    },
    {
      "cell_type": "code",
      "metadata": {
        "id": "VPRQCeezXml1"
      },
      "source": [
        "final = final.groupby(['zipcode'])['tweets'].apply('.'.join).reset_index()\n"
      ],
      "execution_count": null,
      "outputs": []
    },
    {
      "cell_type": "code",
      "metadata": {
        "id": "dvlZKfp2gzos"
      },
      "source": [
        "final[\"cleanedcont\"] = final['tweets'].apply(lambda x: cleanstring(x))\n"
      ],
      "execution_count": null,
      "outputs": []
    },
    {
      "cell_type": "code",
      "metadata": {
        "id": "QrdQxcbETT4w"
      },
      "source": [
        "final.head()"
      ],
      "execution_count": null,
      "outputs": []
    },
    {
      "cell_type": "code",
      "metadata": {
        "id": "i7cveZAijxRn"
      },
      "source": [
        "final['analyser'] = final[\"cleanedcont\"].apply(lambda x: analyse(x))"
      ],
      "execution_count": null,
      "outputs": []
    },
    {
      "cell_type": "code",
      "metadata": {
        "id": "FE-Cq_CykVfB"
      },
      "source": [
        "final['hashtags'] = final[\"tweets\"].apply(lambda x: extracthashtags(x))\n",
        "final.to_csv('lol.csv', index=True, header=True)\n",
        "#final.head()"
      ],
      "execution_count": null,
      "outputs": []
    },
    {
      "cell_type": "code",
      "metadata": {
        "id": "v3S8IpCJDiJR"
      },
      "source": [
        "from transformers import pipeline\n",
        "\n",
        "summarization = pipeline(\"summarization\")\n",
        "\n",
        "def summ(original_text):\n",
        "  # using pipeline API for summarization task\n",
        "  #summarizer = pipeline(\"summarization\")\n",
        "  #summarizer = pipeline(\"summarization\", model=\"t5-base\", tokenizer=\"t5-base\", framework=\"tf\") ,summary_text = summarization(original_text, min_length=0)[0]['original_text']\n",
        "  summary_text = summarization(original_text)[0]['summary_text']\n",
        "  #print(summary_text)\n",
        "  return summary_text\n",
        "\n",
        "\n",
        "for index, row in final.iterrows():\n",
        "  try:\n",
        "    final['bert_summary'] = summ(final[\"cleanedcont\"])\n",
        "  except:\n",
        "    final['bert_summary'] = \"NA\"\n",
        "\n",
        "\n",
        "final['bert_summary'] = final[\"cleanedcont\"].apply(lambda x: summ(x))"
      ],
      "execution_count": null,
      "outputs": []
    },
    {
      "cell_type": "code",
      "metadata": {
        "id": "rnxP54OKddoM",
        "colab": {
          "base_uri": "https://localhost:8080/",
          "height": 1000,
          "referenced_widgets": [
            "6884bcd79b2f4ec398bbe698c44128b0",
            "5762488cbf5c4a4f9dfa86f652d3f8e5",
            "710b7523f9cd41d0acf64aac7e9cef50",
            "2d5bd9dd283142e3aa1b06f6ae667680",
            "994096e567b44c2bafc5e87eafb10464",
            "34d5f0fe681e4d61ab50f1d37b844751",
            "d1797ed644344f08a3f3d4a4179e3b86",
            "b25d904799274815a5d3f10e7541bdf1",
            "9f59bc0fde314246897d3285b3edbf78",
            "48233e617bf24425b93e6e409a61154a",
            "af93595876424fe5b0ae164fe268ce5d",
            "34c9853543f142c5a74f0950ccff2326",
            "9f417735627b4edda3951be465c785d8",
            "b0425b2f54784cf9aa06b3a5ba667de6",
            "a94a676f68c54dcb9f74f6ab5b6bc9ae",
            "dfb4229c95844da9873696aed04be36e",
            "f1334625f6e34308bd723d2568176ed4",
            "b09dacc64f614c78a316c02ae25984d0",
            "6398df00c77f4998be494853455e4cc0",
            "2c8d0aeff18a4b9dadc591a5e02934dc",
            "a2fe3d8b8de148f9a08b55fc7b78023a",
            "e47b5b52d2784bbcadadf6dbb35de8ec",
            "50b6c391bd414d95bd1f23f646bae267",
            "6e281846e5a5405eb2793f5a055c6e10",
            "0caa38f1e3714770bd466223eb83200d",
            "e68ef71abea44880a5a5fa6902ec60a5",
            "b493bd27d6b946d7a0af522547f649c6",
            "c265dba32aba494d87f5bee5acb5b82c",
            "aee2f40a211b479fb7aef446e8f58b4b",
            "60bbac86dc6a4c6983c55957c1e387cc",
            "8792d86f6cf34ca4ba1a9fe3293e2bc5",
            "1a07f75ad26c4ea7b4bf6d017b36529e",
            "2c927e8e2fa04bfe99fd677b2dbaf2fd",
            "dcdb0c7f4c564d30a602f91a184bbc49",
            "4efff866e4f84075b6ef651735a5287f",
            "22fa603c3efb4f72849a11cc8f59880d",
            "4ac1f27bf19544c5809e8253de1428fb",
            "9a410a164b39487f8e7375f26dfc4277",
            "80a9e9a416f24eb5bab26df5836976db",
            "db6e55811cbf414291fe5ed6b07912fa"
          ]
        },
        "outputId": "7b17d555-b971-468e-a77d-615682d020e0"
      },
      "source": [
        "from transformers import pipeline\n",
        "\n",
        "#import spacy\n",
        "import nltk\n",
        "nltk.download('punkt')\n",
        "###\n",
        "#nlp = spacy.load('en')\n",
        "import pandas as pd\n",
        "import csv\n",
        "\n",
        "###\n",
        "#from spacy.lang.en.stop_words import STOP_WORDS\n",
        "from string import punctuation\n",
        "#stopwords = list(STOP_WORDS)\n",
        "\n",
        "\n",
        "\n",
        "from nltk.corpus import stopwords\n",
        "nltk.download('stopwords')\n",
        "stopwords = list(stopwords.words('english'))\n",
        "nltk.download('stopwords')\n",
        "nltk.download('wordnet')\n",
        "import nltk\n",
        "nltk.download('vader_lexicon')\n",
        "nltk.download('stopwords')\n",
        "\n",
        "#reading the csv file, & because no headers\n",
        "df = pd.read_csv('tweetset_1.csv', encoding='utf-8')\n",
        "\n",
        "print(df.head())\n",
        "\n",
        "# cleaning tools - \n",
        "# making tolower()\n",
        "import re\n",
        "# remove punctuation: & donot remove numbers ...\n",
        "punct = \"!#$%&\\'()*+,-./:;<=>?@[\\\\]^_`{|}~\"\n",
        "\n",
        "def remove_punct(text):\n",
        "    text = ' '.join(word for word in text.split(' ') if not word.startswith('#' or \"@\"))\n",
        "    text  = \"\".join([char for char in text if char not in punct])\n",
        "    text = re.sub('[0-9]+', '', text)\n",
        "    return text\n",
        "\n",
        "# removing emojis\n",
        "def remove_emoji(string):\n",
        "    emoji_pattern = re.compile(\"[\"\n",
        "                           u\"\\U0001F600-\\U0001F64F\"  \n",
        "                           u\"\\U0001F300-\\U0001F5FF\"  \n",
        "                           u\"\\U0001F680-\\U0001F6FF\"  \n",
        "                           u\"\\U0001F1E0-\\U0001F1FF\"  # flags (iOS)\n",
        "                           u\"\\U00002702-\\U000027B0\"\n",
        "                           u\"\\U000024C2-\\U0001F251\"\n",
        "                           \"]+\", flags=re.UNICODE)\n",
        "    return emoji_pattern.sub(r'', string)\n",
        "# tokenisation\n",
        "def tokenization(text):\n",
        "    text = re.split('\\W+', text)\n",
        "    return text\n",
        "# lemmetsation\n",
        "wn = nltk.WordNetLemmatizer()\n",
        "def lemmatizer(text):\n",
        "    text = [wn.lemmatize(word) for word in text]\n",
        "    return text\n",
        "\n",
        "\n",
        "stopword = nltk.corpus.stopwords.words('english')\n",
        "def remove_stopwords(text):\n",
        "    text = [word for word in text if word not in stopword]\n",
        "    return text\n",
        "\n",
        "def cleanstring(text):\n",
        "  text = remove_punct(text)\n",
        "  #print(text)\n",
        "  text = remove_emoji(text)\n",
        "  return text\n",
        "\n",
        "def clean_doc(text):\n",
        "  text = remove_punct(text)\n",
        "  #print(text)\n",
        "  text = remove_emoji(text)\n",
        "  #print(text)\n",
        "  ttext = tokenization(text)\n",
        "  #print(ttext)\n",
        "  ttext = remove_stopwords(ttext)\n",
        "  #print(ttext)\n",
        "  ttext = lemmatizer(ttext)\n",
        "  return ttext\n",
        "\n",
        "\n",
        "# algo functions - \n",
        "# summarisation tool\n",
        "a = 0\n",
        "def summ_tool(text):\n",
        "  docx = text#nlp(text)\n",
        "  mytokens = [token.text for token in docx]\n",
        "  word_frequencies = {}\n",
        "  for word in docx:\n",
        "      if word.text not in stopwords:\n",
        "              if word.text not in word_frequencies.keys():\n",
        "                  word_frequencies[word.text] = 1\n",
        "              else:\n",
        "                  word_frequencies[word.text] += 1\n",
        "  try :                \n",
        "    maximum_frequency = max(word_frequencies.values())\n",
        "  except :\n",
        "    a = 1\n",
        "  for word in word_frequencies.keys():  \n",
        "          word_frequencies[word] = (word_frequencies[word]/maximum_frequency)\n",
        "  sentence_list = [ sentence for sentence in docx.sents ]\n",
        "  sentence_scores = {}  \n",
        "  for sent in sentence_list:  \n",
        "          for word in sent:\n",
        "              if word.text.lower() in word_frequencies.keys():\n",
        "                  if len(sent.text.split(' ')) < 30:\n",
        "                      if sent not in sentence_scores.keys():\n",
        "                          sentence_scores[sent] = word_frequencies[word.text.lower()]\n",
        "                      else:\n",
        "                          sentence_scores[sent] += word_frequencies[word.text.lower()]\n",
        " \n",
        " \n",
        "  from heapq import nlargest\n",
        "  summarized_sentences = nlargest(4, sentence_scores, key=sentence_scores.get)\n",
        "  final_sentences = [ w.text for w in summarized_sentences ]\n",
        "  summary = '.'.join(final_sentences)\n",
        "  return summary\n",
        "\n",
        "# sentiment score\n",
        "\n",
        "\n",
        "#sentence = \"VADER is smart, handsome, and funny.What is ou problem dude\"\n",
        "def analyse(sentence):\n",
        "  from nltk.sentiment.vader import SentimentIntensityAnalyzer\n",
        "  ss = SentimentIntensityAnalyzer().polarity_scores(sentence)\n",
        "  return (ss.get(\"pos\"))\n",
        "\n",
        "def extracthashtags(s):\n",
        "    listt = []\n",
        "    ans = []\n",
        "    listt =  set(part[1:] for part in s.split() if part.startswith('#'))\n",
        "    for l in listt:\n",
        "      ans.append(str(l))\n",
        "    return ans\n",
        "    dis = nltk.FreqDist(listt)\n",
        "    listt = dis.most_common(min(int(len(listt)), 4))\n",
        "    \n",
        "    #\n",
        "    \n",
        "    #print(listt)\n",
        "\n",
        "\n",
        "\n",
        "text = \"avsbdhk #jajsdhj # asd #asd #er #er # qwe #qwe #qwe #qwe #qwe #qwe #qwe \"\n",
        "print(extracthashtags(text))\n",
        "\n",
        "final = pd.DataFrame() \n",
        "final['zipcode'] = df[\"cord\"]\n",
        "final['tweets'] = df[\"content\"]\n",
        "final['time'] = df[\"createdat\"]\n",
        "\n",
        "\n",
        "final[\"zipcode\"] = final[\"zipcode\"].astype(dtype=\"str\")\n",
        "final[\"tweets\"] = final[\"tweets\"].astype(dtype=\"str\")\n",
        "\n",
        "final = final.groupby(['zipcode'])['tweets'].apply('.'.join).reset_index()\n",
        "final[\"cleanedcont\"] = final['tweets'].apply(lambda x: cleanstring(x))\n",
        "final[\"clean_tokens\"] = final['tweets'].apply(lambda x: clean_doc(x))\n",
        "#print(final[\"cleanedcont\"])\n",
        "#print(final[\"clean_tokens\"])\n",
        "final['analyser'] = final[\"cleanedcont\"].apply(lambda x: analyse(x))\n",
        "final['hashtags'] = final[\"tweets\"].apply(lambda x: extracthashtags(x))\n",
        "\n",
        "\n",
        "summarization = pipeline(\"summarization\")\n",
        "\n",
        "def summ(original_text):\n",
        "  # using pipeline API for summarization task\n",
        "  summary_text = summarization(original_text, min_length=0)[0]['summary_text']\n",
        "  print(summary_text,'\\n')\n",
        "  return summary_text\n",
        "\n",
        "\n",
        "final['bert_summary']=\"\"\n",
        "\n",
        "print(final.head())\n",
        "\n",
        "c=1 \n",
        "\n",
        "total_rows = len(final.index)\n",
        "print(total_rows)\n",
        "\n",
        "for index,row in final.iterrows():\n",
        "  try:\n",
        "    k=row[\"cleanedcont\"]\n",
        "    final.loc[index, \"bert_summary\"] = summ(k)\n",
        "  except:\n",
        "    final.loc[index, \"bert_summary\"] = \"NA\"\n",
        "  print(row['bert_summary'])\n",
        "  print(\"Progress = {:.2f} %\".format(c/total_rows*100))\n",
        "  c+=1\n",
        "\n",
        "final.to_csv('new.csv', index = True, header=True)"
      ],
      "execution_count": null,
      "outputs": [
        {
          "output_type": "stream",
          "text": [
            "[nltk_data] Downloading package punkt to /root/nltk_data...\n",
            "[nltk_data]   Package punkt is already up-to-date!\n",
            "[nltk_data] Downloading package stopwords to /root/nltk_data...\n",
            "[nltk_data]   Package stopwords is already up-to-date!\n",
            "[nltk_data] Downloading package stopwords to /root/nltk_data...\n",
            "[nltk_data]   Package stopwords is already up-to-date!\n",
            "[nltk_data] Downloading package wordnet to /root/nltk_data...\n",
            "[nltk_data]   Unzipping corpora/wordnet.zip.\n",
            "[nltk_data] Downloading package vader_lexicon to /root/nltk_data...\n",
            "[nltk_data]   Package vader_lexicon is already up-to-date!\n",
            "[nltk_data] Downloading package stopwords to /root/nltk_data...\n",
            "[nltk_data]   Package stopwords is already up-to-date!\n",
            "                  timestamp  ...            cord\n",
            "0  Sun Nov 22 19:02:32 2020  ...   46.63;-123.28\n",
            "1  Sun Nov 22 19:02:33 2020  ...   46.63;-123.28\n",
            "2  Sun Nov 22 19:02:34 2020  ...   46.63;-123.28\n",
            "3  Sun Nov 22 19:02:34 2020  ...   46.63;-123.28\n",
            "4  Sun Nov 22 19:02:35 2020  ...   46.63;-123.28\n",
            "\n",
            "[5 rows x 9 columns]\n",
            "['', 'jajsdhj', 'er', 'qwe', 'asd']\n"
          ],
          "name": "stdout"
        },
        {
          "output_type": "stream",
          "text": [
            "/usr/local/lib/python3.6/dist-packages/nltk/twitter/__init__.py:20: UserWarning: The twython library has not been installed. Some functionality from the twitter package will not be available.\n",
            "  warnings.warn(\"The twython library has not been installed. \"\n"
          ],
          "name": "stderr"
        },
        {
          "output_type": "display_data",
          "data": {
            "application/vnd.jupyter.widget-view+json": {
              "model_id": "6884bcd79b2f4ec398bbe698c44128b0",
              "version_minor": 0,
              "version_major": 2
            },
            "text/plain": [
              "HBox(children=(FloatProgress(value=0.0, description='Downloading', max=1621.0, style=ProgressStyle(description…"
            ]
          },
          "metadata": {
            "tags": []
          }
        },
        {
          "output_type": "stream",
          "text": [
            "\n"
          ],
          "name": "stdout"
        },
        {
          "output_type": "display_data",
          "data": {
            "application/vnd.jupyter.widget-view+json": {
              "model_id": "9f59bc0fde314246897d3285b3edbf78",
              "version_minor": 0,
              "version_major": 2
            },
            "text/plain": [
              "HBox(children=(FloatProgress(value=0.0, description='Downloading', max=1222317369.0, style=ProgressStyle(descr…"
            ]
          },
          "metadata": {
            "tags": []
          }
        },
        {
          "output_type": "stream",
          "text": [
            "\n"
          ],
          "name": "stdout"
        },
        {
          "output_type": "display_data",
          "data": {
            "application/vnd.jupyter.widget-view+json": {
              "model_id": "f1334625f6e34308bd723d2568176ed4",
              "version_minor": 0,
              "version_major": 2
            },
            "text/plain": [
              "HBox(children=(FloatProgress(value=0.0, description='Downloading', max=898822.0, style=ProgressStyle(descripti…"
            ]
          },
          "metadata": {
            "tags": []
          }
        },
        {
          "output_type": "stream",
          "text": [
            "\n"
          ],
          "name": "stdout"
        },
        {
          "output_type": "display_data",
          "data": {
            "application/vnd.jupyter.widget-view+json": {
              "model_id": "0caa38f1e3714770bd466223eb83200d",
              "version_minor": 0,
              "version_major": 2
            },
            "text/plain": [
              "HBox(children=(FloatProgress(value=0.0, description='Downloading', max=456318.0, style=ProgressStyle(descripti…"
            ]
          },
          "metadata": {
            "tags": []
          }
        },
        {
          "output_type": "stream",
          "text": [
            "\n"
          ],
          "name": "stdout"
        },
        {
          "output_type": "display_data",
          "data": {
            "application/vnd.jupyter.widget-view+json": {
              "model_id": "2c927e8e2fa04bfe99fd677b2dbaf2fd",
              "version_minor": 0,
              "version_major": 2
            },
            "text/plain": [
              "HBox(children=(FloatProgress(value=0.0, description='Downloading', max=26.0, style=ProgressStyle(description_w…"
            ]
          },
          "metadata": {
            "tags": []
          }
        },
        {
          "output_type": "stream",
          "text": [
            "\n",
            "         zipcode  ... bert_summary\n",
            "0   34.21;-77.91  ...             \n",
            "1    34.32;-78.7  ...             \n",
            "2   34.46;-78.32  ...             \n",
            "3   34.46;-79.01  ...             \n",
            "4   34.48;-78.65  ...             \n",
            "\n",
            "[5 rows x 7 columns]\n",
            "260\n",
            " Transición justa hacia una economía baja en carbono debe ser parte indispensable del Plan Nacional de Recuperación Post got this NCGovernor What is this about I can tell you without a doubt in my mind that my bistro manager will NOT try to enforce this rule on his own . My seven year old just started a conversation with \"mom next time theres a pandemic\" \n",
            " \n",
            " \n",
            "\n",
            "\n",
            "Progress = 0.38 %\n",
            " MyBolivia Comeback Show – BE – BE. Theres socialism and then fascism in Scandina . Angela Merkel has been Chancellor of Germany for FIFTEEN YEARS yet no where is she accused of eternalizing power She is… camilateleSUR. loveteamkenfor Bienvenida estoy par lo that necesites . \n",
            " \n",
            " \n",
            "\n",
            "\n",
            "Progress = 0.77 %\n",
            " After millions of Americans chose to travel for Thanksgiving health experts worry the US will see a surge of cases in the coming weeks What will that mean for Christmas and New Years? ErinEBillups explains on the Spectrum News app . Need help finding a COVID testing site or have a question about the virus . \n",
            " \n",
            " \n",
            "\n",
            "\n",
            "Progress = 1.15 %\n",
            " \"DepressionEra Foods That Are Weirdly Making A Comeback\" Umm you mean what to make during a pandemic when are panic buying  panic buying                                                 : Virus is a hoax. \"I have done everything I could to help spread this virus\" \n",
            " \n",
            " \n",
            "\n",
            "\n",
            "Progress = 1.54 %\n"
          ],
          "name": "stdout"
        },
        {
          "output_type": "stream",
          "text": [
            "Your max_length is set to 142, but you input_length is only 14. You might consider decreasing max_length manually, e.g. summarizer('...', max_length=50)\n"
          ],
          "name": "stderr"
        },
        {
          "output_type": "stream",
          "text": [
            " We have got to protect our healthcare workers Please stay home with your household only for Thanksgiving I know it sucks I know its not fun Its not supposed to be you do it to save lives . \n",
            " \n",
            " \n",
            "\n",
            "\n",
            "Progress = 1.92 %\n",
            " Bryson Bryson celebrates his birthday with Curbside Treasures LLC . Bryson is a lifelong collector of curbside treasures . \n",
            " \n",
            " \n",
            "\n",
            "\n",
            "Progress = 2.31 %\n",
            " BNC I have real life shit going on forgive me if Im not into the social media bullshit                  : Life is hard being a bottom caste black…                                 :  People fake care as long as they can benefit from it but there nobody whos willing to help the hood . \n",
            " \n",
            " \n",
            "\n",
            "\n",
            "Progress = 2.69 %\n",
            " Next in novel treatments for a double mocha frappucino . Why have all the People that had  only had mild Cases and no deaths . We are the people we’ve been waiting for to save ourselves . \n",
            " \n",
            " \n",
            "\n",
            "\n",
            "Progress = 3.08 %\n",
            " A small steady stream of dissidents is already on its way out at all times . They usually take themselves out . There’s no grand conspiracy or anything Th… SarahTaberbww. Conservatism is such an obvious house of cards its wild… \n",
            " \n",
            " \n",
            "\n",
            "\n",
            "Progress = 3.46 %\n",
            " NowUnitedMusic shivanipaliwal Heyyy how are you I miss you! Now playing Track by Painwallszmalik Hadidvicimedia . \n",
            " \n",
            " \n",
            "\n",
            "\n",
            "Progress = 3.85 %\n",
            " Georgia voters need to send this guy packing . Georgia voters should send him packing . Early vaccines  are promising but they are not one and done cures . Jacksonville city officials tell me its because of multiple cases of city employees being infected with . \n",
            " \n",
            " \n",
            "\n",
            "\n",
            "Progress = 4.23 %\n",
            " Dragons by Anne w Todd McCaffrey HC . Tupac was only  and Fred Hampton was  what’s your point lmfaoMan I’m just knowing Pat finna have a game winning drive smh . \n",
            " \n",
            " \n",
            "\n",
            "\n",
            "Progress = 4.62 %\n",
            " Heres what Y Kinston reported   CityOfFayNC As FayettevilleCumberland Parks and Recreation  personnel work to keep our City litter free we ask that you be mindful of… The City ofFay NC is asking    to keep the city litter free . A report by Dr Angie Mullennix says  ARhyne Love being able to serve with you Thankful for your friendship knowledge wisdom and humor  \n",
            " \n",
            " \n",
            "\n",
            "\n",
            "Progress = 5.00 %\n",
            " CityofNewBern PLEASE SHARE three upcoming testing events in New Bern ncdhhs . Vidant limits visitations due to the rise in cases of Next in novel treatments for a double mocha frappucino . WhiteHouse Stop acting like the world is normal . \n",
            " \n",
            " \n",
            "\n",
            "\n",
            "Progress = 5.38 %\n",
            " Which Senators shamelessly participated in or used the US public health crisis to make money for th…Stonekettle As well as being Task Force Chair . Health officials say it’s best to limit your Thanksgiving festivities to people in your household . \n",
            " \n",
            " \n",
            "\n",
            "\n",
            "Progress = 5.77 %\n",
            " A yearold from Illinois who is charged with killing two people during a protest in Wisconsin posted  million bail Friday and was released from custody . The case has become a rallying cry for some conservatives . \n",
            " \n",
            " \n",
            "\n",
            "\n",
            "Progress = 6.15 %\n",
            " My new Twitter header is MrBeastYT MrBeastExtra . If youre getting fully positive and love from the fans in every video then STFU and take it . We love you and this Army veteran is doing the same by paying it forward . \n",
            " \n",
            " \n",
            "\n",
            "\n",
            "Progress = 6.54 %\n",
            " Securitymag shares a new whitepaper entitled \"The New Lobby How Will Securing Buildings Change in a PostPandemic World\" USArmyReserve Siblings Sgt Maj Glenn Del Rosario amp Maj Lynn Del Rosio were assigned to the Urban Augmentation Medical Task Force… \n",
            " \n",
            " \n",
            "\n",
            "\n",
            "Progress = 6.92 %\n",
            " The coronavirus has given those on the far right everything they ever wanted and yet they are as angry and aggressive and aggrieved as ever” — - drdionclark’s ‘cure Is MORE Harmful Than The Disease’ Visit Visit Visit  for information and guidance for TRICARE beneficiaries and providers . \n",
            " \n",
            " \n",
            "\n",
            "\n",
            "Progress = 7.31 %\n",
            " AAA predicts holiday travel will be reduced by at least   and might be the lowest since the Great Recession . Covid is expected to significantly impact the number of people traveling this Thanksgiving . The lockdown isn’t to make Covid go away it’s to slow down the spread . \n",
            " \n",
            " \n",
            "\n",
            "\n",
            "Progress = 7.69 %\n",
            " “The bodies of hundreds of people who died in NYC during the surge in the spring are still in storage in freezer tr… The federal government needs to make an agreement w corporations to split payment of the people’s salaries amp send folks h… \n",
            " \n",
            " \n",
            "\n",
            "\n",
            "Progress = 8.08 %\n",
            " I love kiki so much. I love em tho  from a distance . I’m so thankful for the friends I have man OnaCUdoh talkemjosh Gots too . I'm upset that I now know who the D’Amelio sisters are . \n",
            " \n",
            " \n",
            "\n",
            "\n",
            "Progress = 8.46 %\n",
            " AP Integrity Project’ investigative work along with statistical analysis of reporting and affidavits related to the election provides enough information to the in many states across the nation . The North Carolina State Board of Elections certified the results of the November general on Tuesday awarding the state’s  electoral votes to President Donald Trump . \n",
            " \n",
            " \n",
            "\n",
            "\n",
            "Progress = 8.85 %\n",
            "\n",
            "Progress = 9.23 %\n",
            " CntStlkMe it sucks being a good person all togetherNBATV  that’s like  bigs for what 🤦TheJohnPerry SmokeMonsterTWI I will be installing the jailbreak when my Noir arrives today . \n",
            " \n",
            " \n",
            "\n",
            "\n",
            "Progress = 9.62 %\n",
            " To view highlights of the data derived from the confirmed positive cases for Harnett County as of November   visit   MomzillaNC Malaise.com . \n",
            " \n",
            " \n",
            "\n",
            "\n",
            "Progress = 10.00 %\n"
          ],
          "name": "stdout"
        },
        {
          "output_type": "stream",
          "text": [
            "Your max_length is set to 142, but you input_length is only 44. You might consider decreasing max_length manually, e.g. summarizer('...', max_length=50)\n"
          ],
          "name": "stderr"
        },
        {
          "output_type": "stream",
          "text": [
            " Dave Prowse actor who played the original Darth Vader in Star Wars trilogy dies at age . Soccer great Diego Maradona dies at the age of 85 . Two teens charged with murder after a yearold was fatally shot in west Charlotte . \n",
            " \n",
            " \n",
            "\n",
            "\n",
            "Progress = 10.38 %\n"
          ],
          "name": "stdout"
        },
        {
          "output_type": "stream",
          "text": [
            "Your max_length is set to 142, but you input_length is only 14. You might consider decreasing max_length manually, e.g. summarizer('...', max_length=50)\n"
          ],
          "name": "stderr"
        },
        {
          "output_type": "stream",
          "text": [
            " Congress passed a stimulus for the wealthy and gave nothing to the working class poor . Take note America America Its been eight months and hasnt done a thing. taking a stand against a corrupt government . \n",
            " \n",
            " \n",
            "\n",
            "\n",
            "Progress = 10.77 %\n"
          ],
          "name": "stdout"
        },
        {
          "output_type": "stream",
          "text": [
            "Your max_length is set to 142, but you input_length is only 38. You might consider decreasing max_length manually, e.g. summarizer('...', max_length=50)\n"
          ],
          "name": "stderr"
        },
        {
          "output_type": "stream",
          "text": [
            " Tips to Protect Seniors from the Flu and COVID are available on the Internet . \n",
            " \n",
            " \n",
            "\n",
            "\n",
            "Progress = 11.15 %\n",
            " Black sequin cropped Express jacket is available in Greenville, South Carolina, Asheville and Asheville . \n",
            " \n",
            " \n",
            "\n",
            "\n",
            "Progress = 11.54 %\n",
            " Katie Hopkinsuk: \"We need a substantial relief bill Now is not the time to penny pinch people are suffering\" Check this out Excellent way to donate to services . \n",
            " \n",
            " \n",
            "\n",
            "\n",
            "Progress = 11.92 %\n",
            " China needs to be wrecked to start since they are throwing around the trillion in their stash pile around CoachJoeBrady . DJ Moore sooooo shifty and it was FesmireJosh White people be like “Damn it’s a slow day today” when there’�s no birds on the bird feeders . \n",
            " \n",
            " \n",
            "\n",
            "\n",
            "Progress = 12.31 %\n",
            " The expat AND usa Daily  Thanks to AnnaKremer are not ordinary times . Give yourself some grace in the amount you are able to accomplish . Learn How to Find a Remote Job Anywhere in the World can help you get through the pandemic . \n",
            " \n",
            " \n",
            "\n",
            "\n",
            "Progress = 12.69 %\n",
            " \"I dont like the result\" is not evidence of fraud or misconduct in an \"Iontheprod Donnie boy being removed from office\" Legal team said they have found enough to potentially invalidate the of the results of the November general in are at stake as a result of Defendants’ unauthorized actions in the handling of absentee ballots within this state actions that were contrary to Georgia Election Code” \n",
            " \n",
            " \n",
            "\n",
            "\n",
            "Progress = 13.08 %\n"
          ],
          "name": "stdout"
        },
        {
          "output_type": "stream",
          "text": [
            "Your max_length is set to 142, but you input_length is only 29. You might consider decreasing max_length manually, e.g. summarizer('...', max_length=50)\n"
          ],
          "name": "stderr"
        },
        {
          "output_type": "stream",
          "text": [
            " MY EP DROPS DEC TH  apologetic party EP DROP DEC TH . I got some place to go and when I get there I’m praying to see everyone I know . \n",
            " \n",
            " \n",
            "\n",
            "\n",
            "Progress = 13.46 %\n",
            " LisaWinslow isnt a punishment its the ultimate freedom is Mercy is Mercy . Death is an important and necessary part of the life of Lisa Winslow . \n",
            " \n",
            " \n",
            "\n",
            "\n",
            "Progress = 13.85 %\n",
            " Buncombe County residents need help with rent mortgage or utilities due to We can help fill out this form or call . Buncombe  residents must have lost income due to Covid amp have an income limit  of the poverty level   family of . Dr Charles Horton explains the new vaccines talks safety and ethics . \n",
            " \n",
            " \n",
            "\n",
            "\n",
            "Progress = 14.23 %\n",
            " Only those who dare to fail greatly can ever achieve greatly . Robert F Kennedy a Trump Republican and would like  terms LIVEpositivity believe good things are going to happen . Wanting to know the truth is no longer acceptable behavior . If you look at factual data and express an opinion other than what is allowed you are labelled as a denier . \n",
            " \n",
            " \n",
            "\n",
            "\n",
            "Progress = 14.62 %\n",
            " Confucius is so pathetic the way this administration never considered that losing was a possibility and now they cant cope . Its hilarious that Americans blame Taiwan Australia and New Zealands success on them being an American . \n",
            " \n",
            " \n",
            "\n",
            "\n",
            "Progress = 15.00 %\n"
          ],
          "name": "stdout"
        },
        {
          "output_type": "stream",
          "text": [
            "Your max_length is set to 142, but you input_length is only 16. You might consider decreasing max_length manually, e.g. summarizer('...', max_length=50)\n"
          ],
          "name": "stderr"
        },
        {
          "output_type": "stream",
          "text": [
            " Multiple counties in our area are at critical or substantial community spread according to ncdhhs . South Carolina Department of Health and Environmental Control DHEC is reporting  new cases of and  new deaths in the last hours . CMS chief school performance officer will walk through metrics dashboard today to breakdown cases across the school system . \n",
            " \n",
            " \n",
            "\n",
            "\n",
            "Progress = 15.38 %\n"
          ],
          "name": "stdout"
        },
        {
          "output_type": "stream",
          "text": [
            "Your max_length is set to 142, but you input_length is only 29. You might consider decreasing max_length manually, e.g. summarizer('...', max_length=50)\n"
          ],
          "name": "stderr"
        },
        {
          "output_type": "stream",
          "text": [
            " Soo I guess JoeBiden won't win the    AGAIN AGAIN . \n",
            " \n",
            " \n",
            "\n",
            "\n",
            "Progress = 15.77 %\n",
            " LisaWinslow isnt a punishment its the ultimate freedom is Mercy is Mercy . Death is an important and necessary part of the life of Lisa Winslow . \n",
            " \n",
            " \n",
            "\n",
            "\n",
            "Progress = 16.15 %\n",
            " North Carolina is reporting  new cases of and  new deaths in the last  hours There are currently  related hospitalizations in the state . Governor Roy Cooper issued additional safety measures to tighten mask requirements and enforcement as cases continue to rise rapidly in North Carolina . \n",
            " \n",
            " \n",
            "\n",
            "\n",
            "Progress = 16.54 %\n",
            " It’s past time for Judges to sanction the trump attorneys who pursuit in filing frivolous lawsuits wasting the courts time and taxpayers dollars . Please presave amp stream this single at midnight at midnight . \n",
            " \n",
            " \n",
            "\n",
            "\n",
            "Progress = 16.92 %\n",
            " Partly Cloudy tomorrow with a high of F and a low of F QueenMab . Selling lots of copies is a good thing . \n",
            " \n",
            " \n",
            "\n",
            "\n",
            "Progress = 17.31 %\n",
            " The Republican Party has split in two Let’s keep it that way . \"The most fundamental difference separating the two halves — support for democracy — is far greater than ideological difference among Republicans\" \n",
            " \n",
            " \n",
            "\n",
            "\n",
            "Progress = 17.69 %\n",
            " It is time for the weekend. We are incredibly excited to have Chase in the taproom tonight. He is an amazing local talent . Check out EXPRESS NEW BeigeSilver Shimmer Strapless Fit amp Flare Party Dress . \n",
            " \n",
            " \n",
            "\n",
            "\n",
            "Progress = 18.08 %\n",
            " Oxford University reveals a third promising vaccine that is far cheaper than Pfizer and Moderna vaccines . When given in a low dose followed by a high dose its up to  effective in testing  SkyLee Every marble represents a life lost from and each second represents  days  The vaccine is also easier to store and distribute . \n",
            " \n",
            " \n",
            "\n",
            "\n",
            "Progress = 18.46 %\n",
            " Netflix brazilian fans are the best. etoilesaster nem eudopo linvenzione degli sticker cè ancora gente che usa le Emoji OuterBanksBR . \n",
            " \n",
            " \n",
            "\n",
            "\n",
            "Progress = 18.85 %\n",
            " The Biden has said he wants a national mask mandate but he would have to rely on governors for implementation . The Biden wants to mandate masks in places that already have a mandate for mask use . Wear your masks sanitize social distance and AVOID gatherings whenever possible . \n",
            " \n",
            " \n",
            "\n",
            "\n",
            "Progress = 19.23 %\n",
            " The National Park Service says scientists are trying to discover the cause of death of a whale calf belonging to “one of the rarest marine mammals” on earth . I used to be scared of death Now I don’t even care . \n",
            " \n",
            " \n",
            "\n",
            "\n",
            "Progress = 19.62 %\n"
          ],
          "name": "stdout"
        },
        {
          "output_type": "stream",
          "text": [
            "Your max_length is set to 142, but you input_length is only 26. You might consider decreasing max_length manually, e.g. summarizer('...', max_length=50)\n"
          ],
          "name": "stderr"
        },
        {
          "output_type": "stream",
          "text": [
            " A covid order has been put in place that if you do not live in a residence you are not allowed to enter it . Testing and Food Boxes from Three in One Family Center will be available TOMORROW at Rebuilding Broken Places CDC. The order will require that masks be worn at home when being visited by someone not a member of the same household . \n",
            " \n",
            " \n",
            "\n",
            "\n",
            "Progress = 20.00 %\n",
            " OsiIg  Information Gathering Instagram . \"Securisec\" is an information gathering tool for information seekers . \"Ig\" is a search for information gathering tools . \n",
            " \n",
            " \n",
            "\n",
            "\n",
            "Progress = 20.38 %\n"
          ],
          "name": "stdout"
        },
        {
          "output_type": "stream",
          "text": [
            "Your max_length is set to 142, but you input_length is only 119. You might consider decreasing max_length manually, e.g. summarizer('...', max_length=50)\n"
          ],
          "name": "stderr"
        },
        {
          "output_type": "stream",
          "text": [
            " A county in Michigan has approved a resolution to impeach Governor Gretchen Whitmers for the “unconstitutional executive orders” to prevent the virus from spreading . Getting tested is one way to help protect others but it is possible to test negative after exposure amp still go on to s… CEOs Urge trump To Concede Not A Moment To Waste In Fighting than  business leaders are calling on Trump to concede saying the stalled transition is hurting the countrys reputation . \n",
            " \n",
            " \n",
            "\n",
            "\n",
            "Progress = 20.77 %\n",
            " OneMan \"Smiley Face\" Protest is the name of my screamo punk metal band We Still Here Pandemic Policing Protest amp Possibility Marc Lamont Hill marclamonthill Thursday . \n",
            " \n",
            " \n",
            "\n",
            "\n",
            "Progress = 21.15 %\n"
          ],
          "name": "stdout"
        },
        {
          "output_type": "stream",
          "text": [
            "Your max_length is set to 142, but you input_length is only 129. You might consider decreasing max_length manually, e.g. summarizer('...', max_length=50)\n"
          ],
          "name": "stderr"
        },
        {
          "output_type": "stream",
          "text": [
            " Telehealth has been able to expand access with Telehealth during the pandemic  via JAMAHealthForum . I spent two summers as an intern in cardiopulmonary rehab . \n",
            " \n",
            " \n",
            "\n",
            "\n",
            "Progress = 21.54 %\n",
            " It is time for the weekend We are incredibly excited to have Chase in the taproom tonight . He is an amazing local talent . Can’t go wrong with these guys Huge variety of songs and never disappoints . \n",
            " \n",
            " \n",
            "\n",
            "\n",
            "Progress = 21.92 %\n",
            " ChrisMarsicano on CNN this afternoon discussing the surge in COVID cases while college students are going home for Thanksgiving break . The market jumped up last week on election euphoria and a possible vaccine for Covid . AstraZeneca said Monday that latestage trials showed its vaccine was up to  effective cheaper and easier to transport . \n",
            " \n",
            " \n",
            "\n",
            "\n",
            "Progress = 22.31 %\n",
            " ShawnMendes DIOS TE AMONO ESTOY PREPARADA PARA EL ALBUM OuterBanksBR  nickdorsey Pgred Austinachorn cheetah . Or is it funny what people who are trying to take your money will accuse you of? \n",
            " \n",
            " \n",
            "\n",
            "\n",
            "Progress = 22.69 %\n"
          ],
          "name": "stdout"
        },
        {
          "output_type": "stream",
          "text": [
            "Your max_length is set to 142, but you input_length is only 50. You might consider decreasing max_length manually, e.g. summarizer('...', max_length=50)\n"
          ],
          "name": "stderr"
        },
        {
          "output_type": "stream",
          "text": [
            " AmPress newsletter has lots of helpful insight on communicating effectively persuasively about   Want to learn more about the COVID vaccine Tune in tonight at  WITN . A total of  Nash County women have tested positive for compared to  men a difference of  people . \n",
            " \n",
            " \n",
            "\n",
            "\n",
            "Progress = 23.08 %\n",
            " How come it was  years of saying Russia rigged the election to elections can’t be rigged? Is it just me or is something off here? I’m gonna say something that’ll start a war . \n",
            " \n",
            " \n",
            "\n",
            "\n",
            "Progress = 23.46 %\n",
            " It’s past time for Judges to sanction the trump attorneys who pursuit in filing frivolous lawsuits wasting the courts time and taxpayers dollars . Please presave amp stream this single at midnight at midnight . \n",
            " \n",
            " \n",
            "\n",
            "\n",
            "Progress = 23.85 %\n",
            " RevDrBarber As my friend ESGlaude has said we can’t have all this death and not have a time of national mourning We must honor thei… Rev. downrightdpad Oh please do tell how the government shuts down all the means to feed people and we all dont starve to death . \n",
            " \n",
            " \n",
            "\n",
            "\n",
            "Progress = 24.23 %\n"
          ],
          "name": "stdout"
        },
        {
          "output_type": "stream",
          "text": [
            "Your max_length is set to 142, but you input_length is only 49. You might consider decreasing max_length manually, e.g. summarizer('...', max_length=50)\n"
          ],
          "name": "stderr"
        },
        {
          "output_type": "stream",
          "text": [
            " Please presave amp stream this single at midnight at midnight . The single will be released at midnight on December 1 . The song was written by Fernando Pessoa . \n",
            " \n",
            " \n",
            "\n",
            "\n",
            "Progress = 24.62 %\n",
            " Enter for a chance to a virtual with Hugh and Ryan Ends Dec  ….  Wenvegas . \n",
            " \n",
            " \n",
            "\n",
            "\n",
            "Progress = 25.00 %\n",
            " DavidsonCollege Theres a lot of competing information buzzing about the vaccines . Four NC hospital systems won’t require employees to get vaccine . ThePostman For about nine months of longer has been around . \n",
            " \n",
            " \n",
            "\n",
            "\n",
            "Progress = 25.38 %\n",
            " TeamHendrick Like and for a chance to win a chaseelliott signed NAPARacing hat DentonG RossMartinIC Our record isn’t great in “Primetime” games so maybe a start is better for UNCRandallClean SportsCenter . \n",
            " \n",
            " \n",
            "\n",
            "\n",
            "Progress = 25.77 %\n",
            " The COVID pandemic has led to an increase in Zoom calls and for many that means focusing more profoundly on their own face . The common cold is a different strain of the same virus as COVID . Facebook projects COVID case counts in some NC counties will increase by at least  percent by the end of the month . \n",
            " \n",
            " \n",
            "\n",
            "\n",
            "Progress = 26.15 %\n",
            " Kathy Pace recently tweeted   wjames newsbreakApp Whoever’s in charge of marketing and displays should be let go because I just think it was a dumb idea As sens… \n",
            " \n",
            " \n",
            "\n",
            "\n",
            "Progress = 26.54 %\n",
            " ECUvsTemple has been delayed due to a player showing symptoms of SARSCoV . A player has been taken to a nearby hospital for testing per reports McGeeOnSports A player is showing symptons of per the crew . If you test negative for COVID it means theres not enough virus to detect at that mom… \n",
            " \n",
            " \n",
            "\n",
            "\n",
            "Progress = 26.92 %\n",
            "\n",
            "Progress = 27.31 %\n"
          ],
          "name": "stdout"
        },
        {
          "output_type": "stream",
          "text": [
            "Your max_length is set to 142, but you input_length is only 50. You might consider decreasing max_length manually, e.g. summarizer('...', max_length=50)\n"
          ],
          "name": "stderr"
        },
        {
          "output_type": "stream",
          "text": [
            " About to hop on DTCRaceRadio for their final show of  and well be talking and more as well as revisiting our bold predictions saying it now I blame  of my predictions for not being possible . \n",
            " \n",
            " \n",
            "\n",
            "\n",
            "Progress = 27.69 %\n",
            " How come it was  years of saying Russia rigged the election to elections can’t be rigged? Is it just me or is something off here? I’m gonna say something that’ll start a war . \n",
            " \n",
            " \n",
            "\n",
            "\n",
            "Progress = 28.08 %\n",
            " Please presave amp stream this single at midnight at midnight . The single will be released at midnight on December 1 . The song was written by Fernando Pessoa . \n",
            " \n",
            " \n",
            "\n",
            "\n",
            "Progress = 28.46 %\n"
          ],
          "name": "stdout"
        },
        {
          "output_type": "stream",
          "text": [
            "Your max_length is set to 142, but you input_length is only 30. You might consider decreasing max_length manually, e.g. summarizer('...', max_length=50)\n"
          ],
          "name": "stderr"
        },
        {
          "output_type": "stream",
          "text": [
            " One of the easiest ways you can fight the spread of is to wear a mask that covers your nose and mouth Whatever your reason get behind the mask . TGP He almost got it right not ebola but did the job . \n",
            " \n",
            " \n",
            "\n",
            "\n",
            "Progress = 28.85 %\n",
            " America Dissected in a  Dr AbdulElSayed kdurquiza Marked by Dr Abdul ElSayed . Dr Abdul elSayed is a doctor who has been in the U.S. for more than 30 years . \n",
            " \n",
            " \n",
            "\n",
            "\n",
            "Progress = 29.23 %\n",
            " The latest Diversity Advantage Weekly is a where TimBoyumTV and BenMcNeely have candid longform discussions with the people who play vital roles in our government . Today is the start of National Handwashing Awareness Week . \n",
            " \n",
            " \n",
            "\n",
            "\n",
            "Progress = 29.62 %\n",
            " A lot of these people that “walked away” from the Democratic Party kept their liberal ideologies . They be trying to con…When you got it out da mudd yea don’t give no fucks yea . How do you make your cat not be a hungry bitch I want a ring doorbell? \n",
            " \n",
            " \n",
            "\n",
            "\n",
            "Progress = 30.00 %\n",
            " Please presave amp stream this single at midnight at midnight . The single will be released at midnight on December 1 . The song was written by Fernando Pessoa . \n",
            " \n",
            " \n",
            "\n",
            "\n",
            "Progress = 30.38 %\n",
            " The work Xmas party is normally the most debaucherously enjoyable event I participate in all year Im gonna miss it a lot  iolabhinton Reliably red or voter suppressed Republican failure or Black people winning  The stories we tell matter imagine where… ChrisGGates Hoooo My dude Depends on what platform youre on but Sony first party has had some bangers for story . \n",
            " \n",
            " \n",
            "\n",
            "\n",
            "Progress = 30.77 %\n",
            " Johnpavlovitz Spotted in a Tulsa OK Target . The creators do like feedback Just keep it constrictive . \n",
            " \n",
            " \n",
            "\n",
            "\n",
            "Progress = 31.15 %\n"
          ],
          "name": "stdout"
        },
        {
          "output_type": "stream",
          "text": [
            "Your max_length is set to 142, but you input_length is only 12. You might consider decreasing max_length manually, e.g. summarizer('...', max_length=50)\n"
          ],
          "name": "stderr"
        },
        {
          "output_type": "stream",
          "text": [
            " Business is booming at Nussbaum Donate on and help us reach our goal of   COVID vaccine announcements are so commonplace I wouldn’t be surprised if shortly McDonald’s released its own Big Vac KeyRiskWorkComp As you prepare for be sure to review the recommendations to protect both yourself and your loved o… \n",
            " \n",
            " \n",
            "\n",
            "\n",
            "Progress = 31.54 %\n",
            " COVID: Is a sore throat common for COVID patients? Is it a common condition for a person with a cold sore throat? It's not uncommon for people with sore throat to get a cold cold . \n",
            " \n",
            " \n",
            "\n",
            "\n",
            "Progress = 31.92 %\n",
            "\n",
            "Progress = 32.31 %\n",
            " Italys per capita death rate is currently double ours . Capitalism ageism and ableism are global problems Theyre not going to disappear on January thThe Supreme Court Faces a Matter of Life and Death . \n",
            " \n",
            " \n",
            "\n",
            "\n",
            "Progress = 32.69 %\n",
            " True marceelias has found the perfect balance of concise informative tweets with no BS . He is the man of the hour in election law  Nanzipadelli Fun day with the girls putting together shoeboxes . \n",
            " \n",
            " \n",
            "\n",
            "\n",
            "Progress = 33.08 %\n",
            " The GOP is now the Boiled Frog Party Remove Republic from Republican  via YouTube . Time for a reform amp getting rid of cults Trump Dixiecrats amp Tea party — time for a return to traditional Yankee compassionate conservative amp Lincoln values . Some of us have chosen “less” corrupt to do exactly the things you are talking about  Biden is our shot amp . \n",
            " \n",
            " \n",
            "\n",
            "\n",
            "Progress = 33.46 %\n",
            "\n",
            "Progress = 33.85 %\n",
            " EricLuna Carolina surpassed  related deaths this week . Federal Reserve and US economy reporter will become Bloomberg’s new Dallas bureau chief . \n",
            " \n",
            " \n",
            "\n",
            "\n",
            "Progress = 34.23 %\n",
            " Is a sore throat common for COVID    Erniefanlife Is your Church still Open for Service or is it Closed due to   the virus going away after the election are doing a terrible job  Is that stuffy nose from COVID? I have  people in my neighborhood who died from The Corona virus. And some people think this is a joke or its not real NO ITS VERY REAL  Coronavirus . \n",
            " \n",
            " \n",
            "\n",
            "\n",
            "Progress = 34.62 %\n",
            " BillyKBall NC had almost  new cases today    Billy KBall NC has almost  cases today . The vast majority of users tweeting about COVID are proscience moderate groups . Could chemical compounds in foods or beverages like muscadine grapes and help prevent NCStatePMB researchers explore the connection . \n",
            " \n",
            " \n",
            "\n",
            "\n",
            "Progress = 35.00 %\n"
          ],
          "name": "stdout"
        },
        {
          "output_type": "stream",
          "text": [
            "Your max_length is set to 142, but you input_length is only 56. You might consider decreasing max_length manually, e.g. summarizer('...', max_length=50)\n"
          ],
          "name": "stderr"
        },
        {
          "output_type": "stream",
          "text": [
            " A fifth straight day of record hospitalizations in North Carolina with  people currently hospitalized with reiterate is not “just like the flu” Covid has brung Guilford County District Court to its knees . Dr Ashish Khanna with WFBH says hes never seen anything like in all of his time practicing medicine . \n",
            " \n",
            " \n",
            "\n",
            "\n",
            "Progress = 35.38 %\n"
          ],
          "name": "stdout"
        },
        {
          "output_type": "stream",
          "text": [
            "Your max_length is set to 142, but you input_length is only 12. You might consider decreasing max_length manually, e.g. summarizer('...', max_length=50)\n"
          ],
          "name": "stderr"
        },
        {
          "output_type": "stream",
          "text": [
            " Every since I have been diagnosed and hospitalized with Covid everything I thought has been clearly confirmed. I am saddened more than ever to see how unnecessary all the damage and lockdowns are . \n",
            " \n",
            " \n",
            "\n",
            "\n",
            "Progress = 35.77 %\n"
          ],
          "name": "stdout"
        },
        {
          "output_type": "stream",
          "text": [
            "Your max_length is set to 142, but you input_length is only 6. You might consider decreasing max_length manually, e.g. summarizer('...', max_length=50)\n"
          ],
          "name": "stderr"
        },
        {
          "output_type": "stream",
          "text": [
            " COVID: Is that stuffy nose from COVID    is that you need to be sick? Is that nose from the movie? Is it that you have a cold? Is you sick? \n",
            " \n",
            " \n",
            "\n",
            "\n",
            "Progress = 36.15 %\n",
            " The Poppy is one of the world's most famous dogs . The Poppies are one of many of the most beautiful animals . \n",
            " \n",
            " \n",
            "\n",
            "\n",
            "Progress = 36.54 %\n"
          ],
          "name": "stdout"
        },
        {
          "output_type": "stream",
          "text": [
            "Your max_length is set to 142, but you input_length is only 37. You might consider decreasing max_length manually, e.g. summarizer('...', max_length=50)\n"
          ],
          "name": "stderr"
        },
        {
          "output_type": "stream",
          "text": [
            " The most ghetto thing about being being a parent is repeating my damn self, says APimpNamedDrip xxPen . We are at war We have no time for luke warm conservatives, says RealBrysonGray . \n",
            " \n",
            " \n",
            "\n",
            "\n",
            "Progress = 36.92 %\n",
            " RuthBaderGinsburg’s Senate Majority Leader “quickly reached on the phone and made his decision,” the Senate majority leader said . \n",
            " \n",
            " \n",
            "\n",
            "\n",
            "Progress = 37.31 %\n",
            " We had a lot bigger needs than QB Signing teddy to that million dollar deal assures me that the panthers aren't drafting a QB in the first round . We coulda rolled with PJ or Will and spruced up our defense Teddys a decent QB just not a franchise guy IMO anyways . \n",
            " \n",
            " \n",
            "\n",
            "\n",
            "Progress = 37.69 %\n",
            " We are honored to partner with Privia Health on the AstraZeneca vaccine study . WakeSportsMed Thanks to the entire WakeSports med staff for their tireless work all year ensuring that the health amp safety of all Deacons is the top priority in our fight with wakehealth . \n",
            " \n",
            " \n",
            "\n",
            "\n",
            "Progress = 38.08 %\n",
            " AstroTurfNW Love this before and after of CamasSchools baseball and softball fields . Big time upgrades for a great school . aquatssuki jmclennan He doesn’t practice what he preaches . \n",
            " \n",
            " \n",
            "\n",
            "\n",
            "Progress = 38.46 %\n",
            " The TNGOP wants to prioritize giving people \"exceptions\" to science instead of addressing the crisis . The legislation is being promoted by tennesseestands which is a fringe antimasker  antivaxxer organization. Because vaccines don’t hospitalize and kill people and does. This is extreme and dangerous and dangerous. If you have ply toilet paper you have twice as much as you thought, you have more than double what you thought . \n",
            " \n",
            " \n",
            "\n",
            "\n",
            "Progress = 38.85 %\n",
            " Biker for Trump Says They Tried Too Hard to Turn a Red State Blue SSBBAC KnilLink TAkkTikkA SMITEGame BPBallistics Geb is in the same line as changeZaron CrownMeKing . The mother of FranklinGraham came up with the idea to give children a musical stuffed lamb to com… \n",
            " \n",
            " \n",
            "\n",
            "\n",
            "Progress = 39.23 %\n",
            " Nursing student Maiya Kimbrew was profiled for the myfox series \"Good For Her\" She worked on improving her health during the pandemic and now considers herself a \"healthy nurse\" \n",
            " \n",
            " \n",
            "\n",
            "\n",
            "Progress = 39.62 %\n",
            " Why was Trump using the same division of Deutsche Bank where Jeffrey Epstein laundered money? Why did Trump say “I wish… chaudre College students’ at this point as long as we don’t have to retake the course It is what it is  monicabyrne I think about this every time I read about an upcoming scifi flick where some femininegendered AI \"gets out of control\" \n",
            " \n",
            " \n",
            "\n",
            "\n",
            "Progress = 40.00 %\n",
            " US Department of Health and Human Services announces a list of major supermarket chains and communitypharmacy networks that will be part of vaccine distribution . \n",
            " \n",
            " \n",
            "\n",
            "\n",
            "Progress = 40.38 %\n",
            "\n",
            "Progress = 40.77 %\n",
            " This ayo MISSIOWHXRE nervous crushparrtdream nah i just wish he was proud of me deloooo what’s going on in my lil city 🥴astronautcraig superfan . \n",
            " \n",
            " \n",
            "\n",
            "\n",
            "Progress = 41.15 %\n",
            " DzessikaJessica canonjpemberton Link broken back on set . NKrankie If the truth be known the judge has given him more for the theft of the phone than the assault on the person . \n",
            " \n",
            " \n",
            "\n",
            "\n",
            "Progress = 41.54 %\n",
            " NewAngliaLEP's original caravan was once a muchloved fixture on the Norwich scene and now ZaksNorwich is hitting the road with the…Yay  negative On call tomorrow . \n",
            " \n",
            " \n",
            "\n",
            "\n",
            "Progress = 41.92 %\n",
            " If your job has been affected as a result of COVID and you are in need of financial assistance MPI offers membership extensions at no cost to you Contact MPI at  or helpmpiorg for additional details . \n",
            " \n",
            " \n",
            "\n",
            "\n",
            "Progress = 42.31 %\n",
            " \"Pandemic is Over\"  Former Pfizer Chief Science Officer Says \"Second Wave\" Faked On FalsePositive COVID Tests  Zero Hedge jondhoward BravesEmily ZachMcGarvey No the billboard here says COVID IS STILL HERE UNLESS YOU ARE IN THE SEATED POSITION AT A GLUTENFREE LOCAL EATERY . \n",
            " \n",
            " \n",
            "\n",
            "\n",
            "Progress = 42.69 %\n",
            " Former Party Chairman Nicolle Wallace wondered “why are Republicans willing to sell their souls for” “big lie” that he the comment came after RMO amp RARGOPCongressman unloads on for claiming the helped ‘rig’ the �Everyone knows that is a damn this should be the STRAW that broke the camels back\" \n",
            " \n",
            " \n",
            "\n",
            "\n",
            "Progress = 43.08 %\n",
            " Why was Trump using the same division of Deutsche Bank where Jeffrey Epstein laundered money Why did Trump say “I wish… robertjdenault NEW Tony Blinken former Deputy Secretary of State and Staff Director of the Senate Foreign Relations Committee will… mmpadellan Why hasnt Kamala resigned her senate seat yet . \n",
            " \n",
            " \n",
            "\n",
            "\n",
            "Progress = 43.46 %\n",
            " NFSNL x Winner will receive a one of a kind hand painted glow in the dark Trashin Pumpkin from MegalopolisToys . GiftSpritze Danke heavennurse \"Par fierté mal placée je nai pas voulu encombrer les urgences dÉvreux\" \n",
            " \n",
            " \n",
            "\n",
            "\n",
            "Progress = 43.85 %\n",
            " WellWeds Thank you so much for doing the right thing amp encouraging others to as well . Zahrahnyc MiraFrenkel jenniferbeals More reason to wear a mask to both protect you from spreading AND help obsc… \n",
            " \n",
            " \n",
            "\n",
            "\n",
            "Progress = 44.23 %\n",
            " ‘Desperately ill’ warns politicians to ‘stop playing politics with medicine’ \n",
            " \n",
            " \n",
            "\n",
            "\n",
            "Progress = 44.62 %\n",
            " sseuIie its  ok  now  omg੭ ᐕShe’s so fucking beautiful . I love every pic of theestallion or maybe an example badgerJosuCrossing . \n",
            " \n",
            " \n",
            "\n",
            "\n",
            "Progress = 45.00 %\n",
            " Health officials say we are in a more prepared spot than just  months ago . Health officials still have major concerns about capacity and staffing . ChronicRights With on the horizon its important to continue protecting yourself from Check out these tips… \n",
            " \n",
            " \n",
            "\n",
            "\n",
            "Progress = 45.38 %\n",
            " The president’s inability to concede the is the latest realitydenying moment in a career preoccupied with an epithet . Trump is secretly plotting next steps including a possible candidacy for the  US presidential . Trump supporters are exacerbating the crisis by emphasizing with look of triumph . \n",
            " \n",
            " \n",
            "\n",
            "\n",
            "Progress = 45.77 %\n"
          ],
          "name": "stdout"
        },
        {
          "output_type": "stream",
          "text": [
            "Your max_length is set to 142, but you input_length is only 22. You might consider decreasing max_length manually, e.g. summarizer('...', max_length=50)\n"
          ],
          "name": "stderr"
        },
        {
          "output_type": "stream",
          "text": [
            " This will be my first show ever in Vancouver . It will not be promoted by the local media or the local art community . Chanter No Justice No Racist Police No Peace No Peace for Tete Gulley . \n",
            " \n",
            " \n",
            "\n",
            "\n",
            "Progress = 46.15 %\n",
            " We were on suckit podcast last week covering all kinds of topics like mental health . Check it out . \n",
            " \n",
            " \n",
            "\n",
            "\n",
            "Progress = 46.54 %\n",
            " SignsSpoken: I love that yesss StarlaYarbrough OregonGovBrown PLEASE do something more Closing some places and leaving others open is NOT solving the problem . I think the walt disney corporation would end my music career before it began . \n",
            " \n",
            " \n",
            "\n",
            "\n",
            "Progress = 46.92 %\n"
          ],
          "name": "stdout"
        },
        {
          "output_type": "stream",
          "text": [
            "Your max_length is set to 142, but you input_length is only 53. You might consider decreasing max_length manually, e.g. summarizer('...', max_length=50)\n"
          ],
          "name": "stderr"
        },
        {
          "output_type": "stream",
          "text": [
            " One KISS IS ALL IT TAKEEEESDUA LIPA SALVOU A QUARENTENA COM FUTURE NOSTALGIAMANDA O STUDIO . Thewave says he plays a character when he rap so I only rap over my own beats because honestly I feel like the clown shit I say would ruin someones work . \n",
            " \n",
            " \n",
            "\n",
            "\n",
            "Progress = 47.31 %\n",
            " Over  Oregonian physicians signed this letter written by my OHSUPediatrics ID partner pfxlewis . We hope it helps to amplify OregonGovBrown OHAOregon recommendations DCDraino no havent you heard of . \n",
            " \n",
            " \n",
            "\n",
            "\n",
            "Progress = 47.69 %\n",
            " Were over  months into the pandemic and our numbers are skyrocketing Please to help stop the spread of and protect our heroic health care workers . \n",
            " \n",
            " \n",
            "\n",
            "\n",
            "Progress = 48.08 %\n"
          ],
          "name": "stdout"
        },
        {
          "output_type": "stream",
          "text": [
            "Your max_length is set to 142, but you input_length is only 58. You might consider decreasing max_length manually, e.g. summarizer('...', max_length=50)\n"
          ],
          "name": "stderr"
        },
        {
          "output_type": "stream",
          "text": [
            " The official results of the state and the victory of Joe Biden were officially confirmed by the state election council . Trump has told one of his allies that he knows he lost the but he is delaying the transition and trying to cast doubt on the outcome of the election . \n",
            " \n",
            " \n",
            "\n",
            "\n",
            "Progress = 48.46 %\n",
            " As a temporary survivor of Im really grateful for the gift of life every day I only live  day at a time now being appreciative of whatever the day brings Change your focus change your life . \n",
            " \n",
            " \n",
            "\n",
            "\n",
            "Progress = 48.85 %\n",
            " Carl Bernstein keeps referring to us as being in a \"cold civil war\" that Trump knew it and has tried for  years  light that… ReesusP Helped hand out food yesterday Gonna do it today Really hard to watch hard working men mumble thank you and how sorry they a… \n",
            " \n",
            " \n",
            "\n",
            "\n",
            "Progress = 49.23 %\n",
            " The mask of death was foreseen in Poes \"Masque of the Red Death\" Earths population was allowed to run rampant in order to win the Moon . Now the ball is over and the population will diminish to a safe margin for the planet  Perhaps millennia  Its not a game vladhungrygen Jesus’ death on the cross defeated and disarmed the devil . \n",
            " \n",
            " \n",
            "\n",
            "\n",
            "Progress = 49.62 %\n"
          ],
          "name": "stdout"
        },
        {
          "output_type": "stream",
          "text": [
            "Your max_length is set to 142, but you input_length is only 138. You might consider decreasing max_length manually, e.g. summarizer('...', max_length=50)\n"
          ],
          "name": "stderr"
        },
        {
          "output_type": "stream",
          "text": [
            " This young man is smarter than the entire Trump family    ReesusP has a wonderful Sunday This is fabulous                                   Wait for it. inafried thank you . \n",
            " \n",
            " \n",
            "\n",
            "\n",
            "Progress = 50.00 %\n",
            " Due to the jump in cases across the state the IdahoCattle Association Convention and Trade Show will not happen in person this week . Oil prices remain stuck between good economic news and numbers  However despite that regional diesel prices have increased . PNWAgNetwork What are the top concerns on the minds of Ag lenders  Its not Oil prices . \n",
            " \n",
            " \n",
            "\n",
            "\n",
            "Progress = 50.38 %\n",
            " To COVIDproof your business you must make sure your legal foundations are solid. Which COVID Grief Stages have you gone through    ? Join in  PNNLab’s engineers have created new designs for hospitalgrade masks and ventilator adaptors to address the national sho… \n",
            " \n",
            " \n",
            "\n",
            "\n",
            "Progress = 50.77 %\n",
            " DMNBBY will be awaiting the teaxdizzysworldx ok. Please go share these poor kitties are out in the cold moonrabbit Ben de keşke sizin gibi arkadaşlıklarım olsun . \n",
            " \n",
            " \n",
            "\n",
            "\n",
            "Progress = 51.15 %\n",
            " A messy bitch who lives for drama has entered the chat Minseok döndüü sonundaaaa Ne güzel bir gün bugün . \n",
            " \n",
            " \n",
            "\n",
            "\n",
            "Progress = 51.54 %\n",
            " Columbo is painting Columbo as being behind the times . I could have sworn this was going to be like the th or thWwe did the undertaker retirement right . I wear a carhartt beanie every day Devinefreedom Patriot Anons have been cleared by our POTUS and the power returned to all of US n… elizajanelandd someone slashed my tires again . \n",
            " \n",
            " \n",
            "\n",
            "\n",
            "Progress = 51.92 %\n"
          ],
          "name": "stdout"
        },
        {
          "output_type": "stream",
          "text": [
            "Your max_length is set to 142, but you input_length is only 126. You might consider decreasing max_length manually, e.g. summarizer('...', max_length=50)\n"
          ],
          "name": "stderr"
        },
        {
          "output_type": "stream",
          "text": [
            " Dannyneg: I loveee this feeling. I just finished bj Alex and I love you it made me feel like I had someone to love but also made me  feel alone . \n",
            " \n",
            " \n",
            "\n",
            "\n",
            "Progress = 52.31 %\n",
            " Mahomes looks like a SS flipping the ball to the nd basemen Its uncanny . JosephJFlynn Congratulations on the engagement . \n",
            " \n",
            " \n",
            "\n",
            "\n",
            "Progress = 52.69 %\n",
            " One of the students was possessed by a daemon and theyve been targeting people close to them . Ive inquired about the departments involvement but they havent been very quick on itsanaonline DineshDSouza Trust in Godderby . \n",
            " \n",
            " \n",
            "\n",
            "\n",
            "Progress = 53.08 %\n"
          ],
          "name": "stdout"
        },
        {
          "output_type": "stream",
          "text": [
            "Your max_length is set to 142, but you input_length is only 30. You might consider decreasing max_length manually, e.g. summarizer('...', max_length=50)\n"
          ],
          "name": "stderr"
        },
        {
          "output_type": "stream",
          "text": [
            " The Republican Party has split in two Let’s keep it that way. The GOP is not the Trump teat its their voter base which currently approves of Trump in the high . The party is filled with people who do just that. They also respond to a left shift in the state by pushing an even more rightleaning candidate for state office . \n",
            " \n",
            " \n",
            "\n",
            "\n",
            "Progress = 53.46 %\n",
            " The and will have their part in the Lake of Fire with the devil and his angels which is the second death and the second judgment . \n",
            " \n",
            " \n",
            "\n",
            "\n",
            "Progress = 53.85 %\n",
            " WA state has a exposure notification app for smartphones Finally All of my family has the app now . Hopefully others who care about their health will feel the same and not get bogged down in any conspiracy they are handing info to \"Big Bro\" \n",
            " \n",
            " \n",
            "\n",
            "\n",
            "Progress = 54.23 %\n"
          ],
          "name": "stdout"
        },
        {
          "output_type": "stream",
          "text": [
            "Your max_length is set to 142, but you input_length is only 91. You might consider decreasing max_length manually, e.g. summarizer('...', max_length=50)\n"
          ],
          "name": "stderr"
        },
        {
          "output_type": "stream",
          "text": [
            " A report by nate vermilyea says   It’s like the good lord said   ‘You got to know when to hold em know  when to fold em amp know when  walk away” \n",
            " \n",
            " \n",
            "\n",
            "\n",
            "Progress = 54.62 %\n",
            " Team Trump spent months calling blm protestors anarchists for fighting injustice . Now team Trump is calling on people to protest against \"his\" injustice fight against their neighbors and governors inciting violence . \n",
            " \n",
            " \n",
            "\n",
            "\n",
            "Progress = 55.00 %\n"
          ],
          "name": "stdout"
        },
        {
          "output_type": "stream",
          "text": [
            "Your max_length is set to 142, but you input_length is only 76. You might consider decreasing max_length manually, e.g. summarizer('...', max_length=50)\n"
          ],
          "name": "stderr"
        },
        {
          "output_type": "stream",
          "text": [
            " Staff report one that looks Trumpishly obvious and stupid then we see one that looked like statesponsored spear phishing . Practically have to do header analysis on each email these days  MS EOPFell down rabbit hole of korean vegan dishes and thee burger dude videos and my stomach was howling despite how much i recently ate . \n",
            " \n",
            " \n",
            "\n",
            "\n",
            "Progress = 55.38 %\n"
          ],
          "name": "stdout"
        },
        {
          "output_type": "stream",
          "text": [
            "Your max_length is set to 142, but you input_length is only 129. You might consider decreasing max_length manually, e.g. summarizer('...', max_length=50)\n"
          ],
          "name": "stderr"
        },
        {
          "output_type": "stream",
          "text": [
            " Aunque nunca en mi puta vida he ido a un  estoy pensando that antes de que comenzase esto de la y demás estupideces había gente que se sentaba en movidas de esas de levantar peso sudaba . \n",
            " \n",
            " \n",
            "\n",
            "\n",
            "Progress = 55.77 %\n",
            " The reason Trump and the GOP are ignoring the is because there getting FILTHY RICH off of us dying This is why we dont want RICH MEN running our country . \n",
            " \n",
            " \n",
            "\n",
            "\n",
            "Progress = 56.15 %\n"
          ],
          "name": "stdout"
        },
        {
          "output_type": "stream",
          "text": [
            "Your max_length is set to 142, but you input_length is only 64. You might consider decreasing max_length manually, e.g. summarizer('...', max_length=50)\n"
          ],
          "name": "stderr"
        },
        {
          "output_type": "stream",
          "text": [
            " Party Girlmp by StaySolidRocky to Listen to AMPS Radio Click the link . It wouldnt be a party without you gt k from Goal . \n",
            " \n",
            " \n",
            "\n",
            "\n",
            "Progress = 56.54 %\n",
            " WestCoastGospel: Our now will or Our with God or Eternal . \n",
            " \n",
            " \n",
            "\n",
            "\n",
            "Progress = 56.92 %\n"
          ],
          "name": "stdout"
        },
        {
          "output_type": "stream",
          "text": [
            "Your max_length is set to 142, but you input_length is only 70. You might consider decreasing max_length manually, e.g. summarizer('...', max_length=50)\n"
          ],
          "name": "stderr"
        },
        {
          "output_type": "stream",
          "text": [
            " A felicidade dele kkkkk  TheVisionEx Its a good day for SAND today as investors are seeing some great value in the future of TheSandboxGame . The VisionEx is just something that I’ll always reshare no matter what . The fine print on Trumps election defense revels the real reason he refuses to concede Grifting . \n",
            " \n",
            " \n",
            "\n",
            "\n",
            "Progress = 57.31 %\n",
            " A man chased an under water and his monthold from the of the of                 .  MUST C    – MUST C –    MUST C . The story is a dramatic by a man chasing an under . water and a month old from the . of . the of a man . \n",
            " \n",
            " \n",
            "\n",
            "\n",
            "Progress = 57.69 %\n"
          ],
          "name": "stdout"
        },
        {
          "output_type": "stream",
          "text": [
            "Your max_length is set to 142, but you input_length is only 25. You might consider decreasing max_length manually, e.g. summarizer('...', max_length=50)\n"
          ],
          "name": "stderr"
        },
        {
          "output_type": "stream",
          "text": [
            " Contract Tracers needed in WA State I couldn’t find this info on Twitter on Twitter sorry for the FB link . WADeptHealth If I’ve been exposed to how long will I need to quarantine myself                  … Contract Tracer Tracer needs in WA state . \n",
            " \n",
            " \n",
            "\n",
            "\n",
            "Progress = 58.08 %\n",
            " All in the name only legal votes were counted . JennaEllisEsq: Are you checking for fraud in states Trump won? \n",
            " \n",
            " \n",
            "\n",
            "\n",
            "Progress = 58.46 %\n",
            "\n",
            "Progress = 58.85 %\n"
          ],
          "name": "stdout"
        },
        {
          "output_type": "stream",
          "text": [
            "Your max_length is set to 142, but you input_length is only 55. You might consider decreasing max_length manually, e.g. summarizer('...', max_length=50)\n"
          ],
          "name": "stderr"
        },
        {
          "output_type": "stream",
          "text": [
            " ShawnInArizona I see a motorized toy in your future . Shawn in Arizona  Shawn inArizona    He went dumbasses and was third speaker. Shawn in Nevada  He said he thinks real Trump won this election . \n",
            " \n",
            " \n",
            "\n",
            "\n",
            "Progress = 59.23 %\n"
          ],
          "name": "stdout"
        },
        {
          "output_type": "stream",
          "text": [
            "Your max_length is set to 142, but you input_length is only 39. You might consider decreasing max_length manually, e.g. summarizer('...', max_length=50)\n"
          ],
          "name": "stderr"
        },
        {
          "output_type": "stream",
          "text": [
            " Getting sick and tired of hearing peoples opinions about this and disregarding basic safety measures . Stick to the facts mask up spread out and wash your hands is no joke . Announcing a new coronavirus surveillance process . \n",
            " \n",
            " \n",
            "\n",
            "\n",
            "Progress = 59.62 %\n",
            " Learn them so far on our YouTube channel with full instructions . Admission by donation to the of the year here . \n",
            " \n",
            " \n",
            "\n",
            "\n",
            "Progress = 60.00 %\n",
            " WADeptHealth Behavioral health experts talk resilience in this episode of our Coping with COVID podcast . This is the impact homeschooling is having on parents  westseattleblog Catching up on todays state briefing . \n",
            " \n",
            " \n",
            "\n",
            "\n",
            "Progress = 60.38 %\n",
            " The Impending Credit Card Boom Why Millennials And Gen Z Will Use Credit Cards CDWGWAGov . A whole year group at coxheathprimary must selfisolate after case . The GillsFC assistant boss talks after draw with CAFCofficial . Breaking news from EUFCofficial  gyms to reopen and a chat with TheGillsFC’s Jack Tucker . \n",
            " \n",
            " \n",
            "\n",
            "\n",
            "Progress = 60.77 %\n",
            " The crisis is just the prequel The preparation for the big one…ginnymooy . Disease transmission is wide… WADeptHealth Todays data report includes  new cases roughly three days’ worth of results Disease transmission is wide… Current cases in  elmhouse beckenhamforum BeckenhamNetBeckenham NewsShopper . \n",
            " \n",
            " \n",
            "\n",
            "\n",
            "Progress = 61.15 %\n",
            " iamchiaravalli Seesaw Screencastify finleyt I’m using Mote for verbal feedbackfavforeignn Im writing you an album tonight no cap yalloves os artistas fazendo os discursos quando ganham os prêmios no . \n",
            " \n",
            " \n",
            "\n",
            "\n",
            "Progress = 61.54 %\n",
            " Police investigating Monday night fatal shooting on Kent’s east hill . A man chased an under water and his monthold from the of  the of the of a dramatic by a man chasing an under . man . Readings from my new book Facing Death Finding Dignity Hope and Healing at the End . \n",
            " \n",
            " \n",
            "\n",
            "\n",
            "Progress = 61.92 %\n",
            " The safest way to celebrate this year is to celebrate with your household unit Visit our website for Thanksgiving gathering alternatives and safety tips on gatherings traveling and overnight stays   Americans hospitalized just yesterday and half the country spent years talking about  lives lost in Benghazi . \n",
            " \n",
            " \n",
            "\n",
            "\n",
            "Progress = 62.31 %\n",
            " Sadly the countys hospitals reported a further  deaths in the last  hours   drpwilliams sirala Mirala Miriam elysesalpeter Civilian triage is the prioritization of a heart attack over a broken finger . That’s…This isnt news Its common sense Did anyone actually take those original timelines seriously? Therapists that say \"COVID isnt in my scope of practice\" worry me How many healthcare providers even understand the term Not that many When will we start prioritizing in? \n",
            " \n",
            " \n",
            "\n",
            "\n",
            "Progress = 62.69 %\n",
            " One helluva show tonight on RadioWIGWAM  BST  EST  PST  new ACDC tracks some classics from older Hard Rock band… Also lots of laughs and inappropriate behaviors . \n",
            " \n",
            " \n",
            "\n",
            "\n",
            "Progress = 63.08 %\n"
          ],
          "name": "stdout"
        },
        {
          "output_type": "stream",
          "text": [
            "Your max_length is set to 142, but you input_length is only 14. You might consider decreasing max_length manually, e.g. summarizer('...', max_length=50)\n"
          ],
          "name": "stderr"
        },
        {
          "output_type": "stream",
          "text": [
            " Fire Pettine already holy shit I know the loss isnt all on him but come on manhsbohemian . They have to make a change  Need to set an example that this isn’t going to continueNot the blunt and wine  BarsWithKevy thats not what u said last night“i put da pussy on the chainwax” \n",
            " \n",
            " \n",
            "\n",
            "\n",
            "Progress = 63.46 %\n",
            " Happy thanksgiving  vegetables taste better here . \n",
            " \n",
            " \n",
            "\n",
            "\n",
            "Progress = 63.85 %\n",
            " Keep these suggestions in mind as you prepare to participate in a protest . “The test only gives us information about that moment in time” says Dr Paul Pottinger UWMedicine PaulPotting… Pharma giants control the patents driving up their profits and restricting supply to a few rich countries . \n",
            " \n",
            " \n",
            "\n",
            "\n",
            "Progress = 64.23 %\n",
            " WA state broke a voter turnout record in the   voters breaks the alltime mark set in the general election  set in  general election . JoeBiden TheDemocrats GeorgiaDemocrat  you won’t win Will never win again Trust me . \n",
            " \n",
            " \n",
            "\n",
            "\n",
            "Progress = 64.62 %\n",
            " Investors are seeing some great value in the future of TheSandboxGame . TheVisionEx is a good day for SAND today . \n",
            " \n",
            " \n",
            "\n",
            "\n",
            "Progress = 65.00 %\n",
            " TSA checkpoint numbers report over a million travelers on Friday and again on Sunday . The disparities become more striking when looking at cases amp deaths  year olds account for  cases but… Are you favoring safety this Thanksgiving? \n",
            " \n",
            " \n",
            "\n",
            "\n",
            "Progress = 65.38 %\n"
          ],
          "name": "stdout"
        },
        {
          "output_type": "stream",
          "text": [
            "Your max_length is set to 142, but you input_length is only 87. You might consider decreasing max_length manually, e.g. summarizer('...', max_length=50)\n"
          ],
          "name": "stderr"
        },
        {
          "output_type": "stream",
          "text": [
            " The people who te calling him a done deal bust now are probably the same people who love draft day grade articles and take them as the Bible . Bridge Cannoneer available now to play in browser for free on my D Course Challe . \n",
            " \n",
            " \n",
            "\n",
            "\n",
            "Progress = 65.77 %\n",
            " Keep these suggestions in mind as you prepare to participate in a protest . \n",
            " \n",
            " \n",
            "\n",
            "\n",
            "Progress = 66.15 %\n"
          ],
          "name": "stdout"
        },
        {
          "output_type": "stream",
          "text": [
            "Your max_length is set to 142, but you input_length is only 133. You might consider decreasing max_length manually, e.g. summarizer('...', max_length=50)\n"
          ],
          "name": "stderr"
        },
        {
          "output_type": "stream",
          "text": [
            " AllergyHealth cottonclubch  OMG we broke the record for most people on stage gtgt awesome musicians amp special guest joinClubh… jcnelson . \n",
            " \n",
            " \n",
            "\n",
            "\n",
            "Progress = 66.54 %\n"
          ],
          "name": "stdout"
        },
        {
          "output_type": "stream",
          "text": [
            "Your max_length is set to 142, but you input_length is only 122. You might consider decreasing max_length manually, e.g. summarizer('...', max_length=50)\n"
          ],
          "name": "stderr"
        },
        {
          "output_type": "stream",
          "text": [
            " Keep these suggestions in mind as you prepare to participate in a protest . Buffalo MC: \"Stop and Bust a Move\" Seattle Washington . \n",
            " \n",
            " \n",
            "\n",
            "\n",
            "Progress = 66.92 %\n",
            " Woman found deceased in Kent home early Tuesday morning . Police investigating Monday night fatal shooting on Kent’s east hill . \n",
            " \n",
            " \n",
            "\n",
            "\n",
            "Progress = 67.31 %\n",
            " MasonWebTV Mason County Public Health reported  new cases of COVID in the County on Monday November . This number covers the weekend and is the highest number reported in a day in Mason County . \n",
            " \n",
            " \n",
            "\n",
            "\n",
            "Progress = 67.69 %\n"
          ],
          "name": "stdout"
        },
        {
          "output_type": "stream",
          "text": [
            "Your max_length is set to 142, but you input_length is only 91. You might consider decreasing max_length manually, e.g. summarizer('...', max_length=50)\n"
          ],
          "name": "stderr"
        },
        {
          "output_type": "stream",
          "text": [
            " Washington continue to be battered by slowdowns and shutdowns Without your help many wont survive This Saturday Nov  New Zealand have  deaths thats what I call success  VicToensing newsmax . \n",
            " \n",
            " \n",
            "\n",
            "\n",
            "Progress = 68.08 %\n"
          ],
          "name": "stdout"
        },
        {
          "output_type": "stream",
          "text": [
            "Your max_length is set to 142, but you input_length is only 95. You might consider decreasing max_length manually, e.g. summarizer('...', max_length=50)\n"
          ],
          "name": "stderr"
        },
        {
          "output_type": "stream",
          "text": [
            " The sudden outbreak of the novel has driven demand for noncontact temperature assessment devices such as for screening especially at and popular public spaces . Students taking and exams in  to be given extra help to compensate for impact of coronavirus . \n",
            " \n",
            " \n",
            "\n",
            "\n",
            "Progress = 68.46 %\n",
            " Keep these suggestions in mind as you prepare to participate in a protest . MASHUP  Buffalo MC  \"Stop and Bust a Move\"   Seattle Washington . \n",
            " \n",
            " \n",
            "\n",
            "\n",
            "Progress = 68.85 %\n"
          ],
          "name": "stdout"
        },
        {
          "output_type": "stream",
          "text": [
            "Your max_length is set to 142, but you input_length is only 25. You might consider decreasing max_length manually, e.g. summarizer('...', max_length=50)\n"
          ],
          "name": "stderr"
        },
        {
          "output_type": "stream",
          "text": [
            " Readings from my new book Facing Death Finding Dignity Hope and Healing at the End . \n",
            " \n",
            " \n",
            "\n",
            "\n",
            "Progress = 69.23 %\n",
            " All in the name only legal votes were counted . JennaEllisEsq: Are you checking for fraud in states Trump won? \n",
            " \n",
            " \n",
            "\n",
            "\n",
            "Progress = 69.62 %\n",
            " EleneeDao Starting today Providence will reschedule some elective surgeries amp procedures . The Pandemic Could Cut by Permanentlyy  After of Airlines are starting to suffer and adjusting to life after . \n",
            " \n",
            " \n",
            "\n",
            "\n",
            "Progress = 70.00 %\n",
            " While JoeBiden defeated Donald Trump the Democratic party lost seats downballot throughout the country . The GameStop ad shows Links Awakening at a tremendous price for Nintendo firstparty games . Check out the interview with DJ artist ChanceTheCloser on The J Lounge . \n",
            " \n",
            " \n",
            "\n",
            "\n",
            "Progress = 70.38 %\n"
          ],
          "name": "stdout"
        },
        {
          "output_type": "stream",
          "text": [
            "Your max_length is set to 142, but you input_length is only 39. You might consider decreasing max_length manually, e.g. summarizer('...', max_length=50)\n"
          ],
          "name": "stderr"
        },
        {
          "output_type": "stream",
          "text": [
            " Covid vaccine money is no object . People getting knickers in a twist that these vaccines won’t be safe due to not taking  years to make . It takes years and years to obtain funding and approval . FetchNW wants some sort of in person celebration of Rattnips life as well as our usual events wi… \n",
            " \n",
            " \n",
            "\n",
            "\n",
            "Progress = 70.77 %\n",
            " Check out the interview with DJ artist ChanceTheCloser on The J Lounge . \n",
            " \n",
            " \n",
            "\n",
            "\n",
            "Progress = 71.15 %\n"
          ],
          "name": "stdout"
        },
        {
          "output_type": "stream",
          "text": [
            "Your max_length is set to 142, but you input_length is only 133. You might consider decreasing max_length manually, e.g. summarizer('...', max_length=50)\n"
          ],
          "name": "stderr"
        },
        {
          "output_type": "stream",
          "text": [
            " Georgians libs  polarsprite Makes this go viral theyre trying to steal your votes . Michellethemail MartinMarlaine DoYouEvenLif: \"I think he has already had it too. Thats why they were all so quiet at the WH when Trump… Trump’s . \n",
            " \n",
            " \n",
            "\n",
            "\n",
            "Progress = 71.54 %\n"
          ],
          "name": "stdout"
        },
        {
          "output_type": "stream",
          "text": [
            "Your max_length is set to 142, but you input_length is only 14. You might consider decreasing max_length manually, e.g. summarizer('...', max_length=50)\n"
          ],
          "name": "stderr"
        },
        {
          "output_type": "stream",
          "text": [
            " Keep these suggestions in mind as you prepare to participate in a protest . Buffalo MC: \"Stop and Bust a Move\" Seattle Washington . \n",
            " \n",
            " \n",
            "\n",
            "\n",
            "Progress = 71.92 %\n",
            " Happy thanksgiving  vegetables taste better here . \n",
            " \n",
            " \n",
            "\n",
            "\n",
            "Progress = 72.31 %\n",
            " People who voted for Trump after all the death chaos and lying he has done are Traitors And TRUTH demand… LeeSharpeNFL This is disgusting. No football player should be directly given shit by fans let alone DEATH THREATS over something that happened in a game. This is absolutely routine political disagreement. \n",
            " \n",
            " \n",
            "\n",
            "\n",
            "Progress = 72.69 %\n",
            " Findings suggest SARSCoV may have been introduced into the United States prior to January . Join an incredible discussion December nd  at PM ET with leaders from several health systems Kaiser CHN Houston Methodist and Providence discussing the challenges of during and a sneak peak at DexCare . \n",
            " \n",
            " \n",
            "\n",
            "\n",
            "Progress = 73.08 %\n"
          ],
          "name": "stdout"
        },
        {
          "output_type": "stream",
          "text": [
            "Your max_length is set to 142, but you input_length is only 95. You might consider decreasing max_length manually, e.g. summarizer('...', max_length=50)\n"
          ],
          "name": "stderr"
        },
        {
          "output_type": "stream",
          "text": [
            " A group of about  Seattle Antifa protesters met up tonight and marched along University way damaging a Starbucks on nd ave  and continued their march to The University of Washington Campus  A fistfight just occurred in Sacramento . \n",
            " \n",
            " \n",
            "\n",
            "\n",
            "Progress = 73.46 %\n",
            " Keep these suggestions in mind as you prepare to participate in a protest . MASHUP  Buffalo MC  \"Stop and Bust a Move\"   Seattle Washington . \n",
            " \n",
            " \n",
            "\n",
            "\n",
            "Progress = 73.85 %\n",
            " The Sturgis Motorcycle Rally Resulted In Cases Across State Lines According To CDC  They spread COVID to at least twelve states according to the CDC . \n",
            " \n",
            " \n",
            "\n",
            "\n",
            "Progress = 74.23 %\n"
          ],
          "name": "stdout"
        },
        {
          "output_type": "stream",
          "text": [
            "Your max_length is set to 142, but you input_length is only 119. You might consider decreasing max_length manually, e.g. summarizer('...', max_length=50)\n"
          ],
          "name": "stderr"
        },
        {
          "output_type": "stream",
          "text": [
            " Current cases in  elmhouse beckenhamforum BeckenhamNet BeckenshamNet and BeckenamNet . DKlobucher How amp improve accuracy \"Simulations advance our understanding of … \"Simulated of … \" \n",
            " \n",
            " \n",
            "\n",
            "\n",
            "Progress = 74.62 %\n",
            " A group of about  Seattle Antifa protesters met up tonight and marched along University way damaging a Starbucks on nd ave . They continued their march to The University of Washington Campus . \n",
            " \n",
            " \n",
            "\n",
            "\n",
            "Progress = 75.00 %\n",
            " Cyberpunk RED is likely up on certain websites and link exchanges as a \"free download\" Cyberpunk Red is likely to be available as a free download . It got more likes than anything youve posted on this thread so I guess youre even shittier than crappyamerican Hand raised . \n",
            " \n",
            " \n",
            "\n",
            "\n",
            "Progress = 75.38 %\n",
            " New data shows that domestic violence against women amp girls has increased since began It’s a “shadow pandemic”… melindagates New data . \n",
            " \n",
            " \n",
            "\n",
            "\n",
            "Progress = 75.77 %\n",
            " Not too busy SeaTacAirport  but still busy enough for travel before Thanksgiving . Officials here predict busiest travel period since pandemic began . Strike is under way in Tacoma over working conditions for Drs amp Nurses staff  urgent care clinics run by Multicare . \n",
            " \n",
            " \n",
            "\n",
            "\n",
            "Progress = 76.15 %\n",
            " GOP voter ballots never received after the GOP voters never received . Biden has a lead in Georgia . GSAEmily Do your job and sign the paper work to get the transition started . DonaldJTrump Jr. writes \"I simply can’t show empathy for someone who hates me\" \n",
            " \n",
            " \n",
            "\n",
            "\n",
            "Progress = 76.54 %\n",
            " One helluva show tonight on RadioWIGWAM  BST  EST  PST  new ACDC tracks some classics from older Hard Rock band… Also lots of laughs and inappropriate behaviors . \n",
            " \n",
            " \n",
            "\n",
            "\n",
            "Progress = 76.92 %\n",
            "\n",
            "Progress = 77.31 %\n",
            " Police investigating Monday night fatal shooting on Kent’s east hill . Crime Notes for the  I Thought Id Get to See My Mother Again Then the Hit . Readings from my new book Facing Death Finding Dignity Hope and Healing at the End . \n",
            " \n",
            " \n",
            "\n",
            "\n",
            "Progress = 77.69 %\n",
            " Neil Peart was inducted into the PAS Hall of Fame in May . Check out the tribute and video here . \n",
            " \n",
            " \n",
            "\n",
            "\n",
            "Progress = 78.08 %\n",
            " Per statement “It’s easier to run over a feeble old man like JoeBiden than it is to take out a fascist like real Donald Trump” AwakenWithJP: “We gotta fight for our right to a SnowinginFL mikandynothem NYGovCuomo’ \n",
            " \n",
            " \n",
            "\n",
            "\n",
            "Progress = 78.46 %\n",
            " The DCEU is littered with fantastic ideas that go absolutely no where . Mike Pompeo is one of the worst Americans in American History . I typically wake up stressed out because I didn't wear a mask in my dreamsPals I can’t believe it is week  Please enter da contest It is open to all dogs  and cats  You can enter more than once . \n",
            " \n",
            " \n",
            "\n",
            "\n",
            "Progress = 78.85 %\n",
            " The is U control the amp our  You control federal funding to our poorest to have become the preferred of the to the the You got what u asked for . The is They cld care less if small businesses go under amp don’t come down hard on or riotous behaviors . This new version of don't care about you or I out the amp make poorer the Twitter Since all you legacy cathedral types chat on a regular basis me thinks you’d all appreciate an invite to the ⁦GavinNewsom⁩   spokanehealth Ideas for how to make this Thanksgiving special amp safe. Host a virtual game night with a theme—whether decor or costum… \n",
            " \n",
            " \n",
            "\n",
            "\n",
            "Progress = 79.23 %\n"
          ],
          "name": "stdout"
        },
        {
          "output_type": "stream",
          "text": [
            "Your max_length is set to 142, but you input_length is only 21. You might consider decreasing max_length manually, e.g. summarizer('...', max_length=50)\n"
          ],
          "name": "stderr"
        },
        {
          "output_type": "stream",
          "text": [
            " A report by Daniel says   daisymae Goodnight pals sleep tight Wilbur and Ernie WonderWilbur  sweet dreams of piggies  and lambie  report by ErgonWolf says  DoberDoggo No but it is an issue for moose health up in more northern latitudes . \n",
            " \n",
            " \n",
            "\n",
            "\n",
            "Progress = 79.62 %\n",
            " Give or me That is unless my government mandates a vaccination than by allll means Yes Sir . \n",
            " \n",
            " \n",
            "\n",
            "\n",
            "Progress = 80.00 %\n",
            " The teenager that died from are wearing a mask and staying home to help protect people like her . We failed her but can protect so many others . \n",
            " \n",
            " \n",
            "\n",
            "\n",
            "Progress = 80.38 %\n",
            " Most definitely its repeated collusion with Russia to interfere with our election  Most definitely thats repeated collusion . Emotional support dogs will be missed this semester due to But services like the GonzagaLibrary are here to make sure students get through their finals week successfully . The safest way to celebrate this year is to celebrate with your household unit . \n",
            " \n",
            " \n",
            "\n",
            "\n",
            "Progress = 80.77 %\n",
            " One week poll Which name best suits Twitter based on the posts you see their CEO and their censorship . \n",
            " \n",
            " \n",
            "\n",
            "\n",
            "Progress = 81.15 %\n",
            " The new WA tracking app is anonymous and it will help in tracking infections and let you know when you may have come in contact with infected people . Illnesses can be a cause of hearing loss and COVID is no different . The next COVID relief check will arrive after the sequel to Mac and Me . \n",
            " \n",
            " \n",
            "\n",
            "\n",
            "Progress = 81.54 %\n",
            " The safest way to celebrate this year is to celebrate with your household unit Visit our website for Thanksgiving gathering alternatives and safety tips on gatherings traveling and overnight stays   Americans hospitalized just yesterday and half the country spent years talking about  lives lost in Benghazi . \n",
            " \n",
            " \n",
            "\n",
            "\n",
            "Progress = 81.92 %\n"
          ],
          "name": "stdout"
        },
        {
          "output_type": "stream",
          "text": [
            "Your max_length is set to 142, but you input_length is only 112. You might consider decreasing max_length manually, e.g. summarizer('...', max_length=50)\n"
          ],
          "name": "stderr"
        },
        {
          "output_type": "stream",
          "text": [
            " A Mexican Jesuit Catholic priest falsely accused of an assignation attempt on the presiden . A Mexican Jester Catholic priest was falsely accused  of an assigningation attempt . Ethical considerations should always be in playsweetnovember . Keep these suggestions in your mind as you prepare to participate in a protest . \n",
            " \n",
            " \n",
            "\n",
            "\n",
            "Progress = 82.31 %\n",
            " A goody takes tomato off burger but still asks for ketchup . \"Up On Bob\" by sullivandraws is really engaging for the kids PreK . \n",
            " \n",
            " \n",
            "\n",
            "\n",
            "Progress = 82.69 %\n",
            " AllergyHealth cottonclubch  OMG we broke the record for most people on stage gtgt awesome musicians amp special guest joinClubh… jcnelson . \n",
            " \n",
            " \n",
            "\n",
            "\n",
            "Progress = 83.08 %\n",
            " AllergyHealth cottonclubch  OMG we broke the record for most people on stage gtgt awesome musicians amp special guest joinClubh… jcnelson . \n",
            " \n",
            " \n",
            "\n",
            "\n",
            "Progress = 83.46 %\n",
            " Kent MPs urge government to give council areas individual tier ratings according to local factors Covid restrictions show what we’re really like . An entire year group and nine staff are in quarantine due to case at school . \n",
            " \n",
            " \n",
            "\n",
            "\n",
            "Progress = 83.85 %\n",
            " New data shows that domestic violence against women amp girls has increased since began It’s a “shadow pandemic”…OMG These crazy Thanksgiving regulations have no basis for Thanksgiving regulations . New analysis shows that Hispanic Latinx and Black Americans are more likely to die from than nonHispanic white . \n",
            " \n",
            " \n",
            "\n",
            "\n",
            "Progress = 84.23 %\n",
            " JoeBiden TheDemocrats GeorgiaDemocrat  you won’t win Will never win again Trust me The documents are there  WalshFreedom A named “Carrots” refused to concede that was not in his favor . A fistfight just occurred in Sacramento with some gangs giving members \"degrees\" as recognition for taking part in violence . \n",
            " \n",
            " \n",
            "\n",
            "\n",
            "Progress = 84.62 %\n",
            " Find your inner kid This is your reminder to take a mindful moment Stop scrolling Unclench your jaw Drop your shoulders Breathe in and fill your belly with oxygen breathe out …repeat . Today in Melbourne Victoria Australian discharged the last COVID case we are now free . \n",
            " \n",
            " \n",
            "\n",
            "\n",
            "Progress = 85.00 %\n",
            " Its official  WA state broke a voter turnout record in the   voters breaks the alltime mark set in the general election  The first woman and the youngest in  years freetofindtruth Going live on  yes again and why is important    A third of nurses who have died of in US are Filipino tho a third of the nursing population  is Filipino tho Filipino . \n",
            " \n",
            " \n",
            "\n",
            "\n",
            "Progress = 85.38 %\n",
            " Live webinar today M MuñozRuiz PhD from the Francis Crick Institute and A Kulasinghe PhD at Queensland University of Technology QUT will explain how they use nanostringtech technology in the immunology of COVID . Register now  MaryLTrump A death in the USA on Dec   happened every  seconds . \n",
            " \n",
            " \n",
            "\n",
            "\n",
            "Progress = 85.77 %\n",
            " Half of intensive care beds at hospital are being used by patients this year . A whole year group are selfisolating after a case at primary school . comcast extends data caps to regions previously exempt regions which were previously exempt . \n",
            " \n",
            " \n",
            "\n",
            "\n",
            "Progress = 86.15 %\n",
            " The Scout Who Never Gave up  is cancelled . But Im also not gonna hate him for it . \n",
            " \n",
            " \n",
            "\n",
            "\n",
            "Progress = 86.54 %\n",
            " Check out the new tool that enables your smartphone to help stop the spread of its called WA Notify and it alerts . The goals of the Nov lockdown were to slow spread of in amp  increase hospital capacity . \n",
            " \n",
            " \n",
            "\n",
            "\n",
            "Progress = 86.92 %\n"
          ],
          "name": "stdout"
        },
        {
          "output_type": "stream",
          "text": [
            "Your max_length is set to 142, but you input_length is only 111. You might consider decreasing max_length manually, e.g. summarizer('...', max_length=50)\n"
          ],
          "name": "stderr"
        },
        {
          "output_type": "stream",
          "text": [
            " Thessalonians encourage one another with these words ‘Thessalonian’   NIV . I got it with that in mind and it worked WAY Better than I anticipated . IAMobx is approaching my fetish apogee . \n",
            " \n",
            " \n",
            "\n",
            "\n",
            "Progress = 87.31 %\n",
            " The is U control the amp our  You control federal funding to our poorest to have become the preferred of the to the You got what u asked for . The is They cld care less if small businesses go under amp don’t come down hard on or riotous behaviors . \n",
            " \n",
            " \n",
            "\n",
            "\n",
            "Progress = 87.69 %\n",
            " A named “Carrots’ refused to concede that was not in his favor. A fistfight just occurred in Sacramento. Some gangs give members \"degrees\" as recognition for taking part in violence . \n",
            " \n",
            " \n",
            "\n",
            "\n",
            "Progress = 88.08 %\n",
            " Readings from my new book Facing Death Finding Dignity Hope and Healing at the End . Join this webinar on December at pm CET Hear from M MuñozRuiz PhD from the TheCrick and A Kulasinghe PhD at QUT explain how they use NanoString Technology in the immunology of COVID . “The test only gives us information about that moment in time” says Dr Paul Pottinger UWMedicine PaulPotting… \n",
            " \n",
            " \n",
            "\n",
            "\n",
            "Progress = 88.46 %\n",
            " UV light is being used as a weapon against vineyard diseases . Adaptive Biotechnologies is harnessing the power of Microsoft Azure to help them . MalcontentmentT Over M Americans test positive Nov . \n",
            " \n",
            " \n",
            "\n",
            "\n",
            "Progress = 88.85 %\n",
            " Its official  WA state broke a voter turnout record in the   voters breaks the alltime mark  set in the general election  The documents are there  WalshFreedom . Biden isn’t even sworn in yet elections board votes to certify results . \n",
            " \n",
            " \n",
            "\n",
            "\n",
            "Progress = 89.23 %\n",
            " The safest way to celebrate this year is to celebrate with your household unit Visit our website for Thanksgiving gathering alternatives and safety tips on gatherings traveling and overnight stays   Americans hospitalized just yesterday and half the country spent years talking about  lives lost in Benghazi . \n",
            " \n",
            " \n",
            "\n",
            "\n",
            "Progress = 89.62 %\n",
            " ThePequod jordans yells of \"can i still get into heaven if i kll myself\" break me everytimeEXRustic Go to bed lmaooartoflore Love the expression . \n",
            " \n",
            " \n",
            "\n",
            "\n",
            "Progress = 90.00 %\n",
            " JoeBiden TheDemocrats GeorgiaDemocrat  you won’t win Will never win again Trust me The documents are there  WalshFreedom A named “Carrots” refused to concede that was not in his favor . RashidaTlaib Shots fired already let the infighting begin Biden isn't even sworn in yet elections board votes to certify results Presidentelect Biden won the state by more than votes . \n",
            " \n",
            " \n",
            "\n",
            "\n",
            "Progress = 90.38 %\n",
            " The gameplay and control of the Sonic games are absolute trash and take all the fun out of them . This is why religious authoritarianism aka evangelicalism translates so seamlessly into the political kind . \n",
            " \n",
            " \n",
            "\n",
            "\n",
            "Progress = 90.77 %\n",
            " Human and nonhuman diseases are evolving with an unusual rapidity simply because changes in our behavi…Pretty much Corona typical liberal do as I say not as I do Temporary COVID Recovery Assistant for City of Seattle . \n",
            " \n",
            " \n",
            "\n",
            "\n",
            "Progress = 91.15 %\n",
            " Millions of us are not traveling or having a gettogether this year for YOUR sake . Help out your local bars and restaurants by ordering takeout doing curbside pickup or doing outdoor dining when possible . \n",
            " \n",
            " \n",
            "\n",
            "\n",
            "Progress = 91.54 %\n",
            " We received more signs from driftlessstudios this week . Great quality with a good giggle . \n",
            " \n",
            " \n",
            "\n",
            "\n",
            "Progress = 91.92 %\n",
            " The technology exists to provide fair transparent and aud… dragonchaingang Dont trust the It’s good to know at least most people think that should concede most people are not ready for our to fall . \n",
            " \n",
            " \n",
            "\n",
            "\n",
            "Progress = 92.31 %\n",
            " A respected friend tells his story about his parents battle with and losing his father . The virus does not discriminate or have a political party  Its time we cared for each other no matter what . There is no zero chance You could get from someones fartDrTomFrieden . \n",
            " \n",
            " \n",
            "\n",
            "\n",
            "Progress = 92.69 %\n",
            " Joe Biden wont pardon Trump because he has nothing to be pardoned for . So THATS what a first quarter touchdown looks like More of that please CafeChillRadio carnavalmixx I thought the On the Edge show was from pm until am  has something changed . \n",
            " \n",
            " \n",
            "\n",
            "\n",
            "Progress = 93.08 %\n"
          ],
          "name": "stdout"
        },
        {
          "output_type": "stream",
          "text": [
            "Your max_length is set to 142, but you input_length is only 28. You might consider decreasing max_length manually, e.g. summarizer('...', max_length=50)\n"
          ],
          "name": "stderr"
        },
        {
          "output_type": "stream",
          "text": [
            " NAEP has been suspended because \"too many students are attending school remotely and because inperson testing conditions are constrained\" isnt it time to do the same with Smarter Balanced assessments . NYC public schools conducted K tests which revealed a positivity rate of just  across schools across schools . \n",
            " \n",
            " \n",
            "\n",
            "\n",
            "Progress = 93.46 %\n",
            " SravastiAbbey remains closed to visitors as continues its spread across the US and the world . Still daily of daily of… daily of ... daily of... the Sraveasti Abbey . \n",
            " \n",
            " \n",
            "\n",
            "\n",
            "Progress = 93.85 %\n",
            " This is one of the smartest moves I have ever seen in the NFL especially with some NFL teams allowing fans back in the stadiums Its not worth it Watch from the comfort of your home . \n",
            " \n",
            " \n",
            "\n",
            "\n",
            "Progress = 94.23 %\n",
            " An estimated one billion people worldwide out of poverty this year we are reversing that progress to the extent—it bears repeating—that an estimated  million more people will starve” AntiCOVID Strategy  found out that a friend  had passed away recently . \n",
            " \n",
            " \n",
            "\n",
            "\n",
            "Progress = 94.62 %\n"
          ],
          "name": "stdout"
        },
        {
          "output_type": "stream",
          "text": [
            "Your max_length is set to 142, but you input_length is only 82. You might consider decreasing max_length manually, e.g. summarizer('...', max_length=50)\n"
          ],
          "name": "stderr"
        },
        {
          "output_type": "stream",
          "text": [
            " Addictions stem from ones Freudian death wish via selfsabotage selfharm selfthwarting wanting to escape from this material life of pain amp suffering Bodies fall apart unquenchable longings ravage our souls passions amp attachments bring the greatest suffering to one’s self  CKscullycat \"Niecy your gonna be the death of me\" \n",
            " \n",
            " \n",
            "\n",
            "\n",
            "Progress = 95.00 %\n",
            " In days governments will vote on a plan to suspend so the whole world can benefit Lets make sure it passes . The crisis requires US global leadership in addition to a domestic response Join me in urging Congress to act . \n",
            " \n",
            " \n",
            "\n",
            "\n",
            "Progress = 95.38 %\n"
          ],
          "name": "stdout"
        },
        {
          "output_type": "stream",
          "text": [
            "Your max_length is set to 142, but you input_length is only 129. You might consider decreasing max_length manually, e.g. summarizer('...', max_length=50)\n"
          ],
          "name": "stderr"
        },
        {
          "output_type": "stream",
          "text": [
            " Police deserve support and like everyone else that works in this country they have to follow requests from their superiors . The thanksgiving lockdown is due to idiot demsCaperGirlUSA MichaelRapaport DonaldJTrump Jr. \n",
            " \n",
            " \n",
            "\n",
            "\n",
            "Progress = 95.77 %\n"
          ],
          "name": "stdout"
        },
        {
          "output_type": "stream",
          "text": [
            "Your max_length is set to 142, but you input_length is only 96. You might consider decreasing max_length manually, e.g. summarizer('...', max_length=50)\n"
          ],
          "name": "stderr"
        },
        {
          "output_type": "stream",
          "text": [
            " Some of you THINK you know what poverty is but have never had to step foot in a country that is TRULY have and have nots . It’s like the never ending spinning of tires pissing into the wind administering medicine to the deadyou get it . \n",
            " \n",
            " \n",
            "\n",
            "\n",
            "Progress = 96.15 %\n",
            " MartaWomack: Democrat party has become hate and Evil against the American people . The hero bill is not for American people its for felons illegal immigrants . Nancy Pelosi needs to get serious . \n",
            " \n",
            " \n",
            "\n",
            "\n",
            "Progress = 96.54 %\n",
            " The holidays are coming and after having flown  flights since the start of the pandemic  I’m sharing my insider intelligence about how to fly safely ps for the time being fly only if you have to . \n",
            " \n",
            " \n",
            "\n",
            "\n",
            "Progress = 96.92 %\n"
          ],
          "name": "stdout"
        },
        {
          "output_type": "stream",
          "text": [
            "Your max_length is set to 142, but you input_length is only 63. You might consider decreasing max_length manually, e.g. summarizer('...', max_length=50)\n"
          ],
          "name": "stderr"
        },
        {
          "output_type": "stream",
          "text": [
            " The Navajo Nation is struggling to survive the coronavirus . The owner of a Frankfurt restaurant is staging a protest against the lockdown in by filling his tables with a hundred stuffed toy pandas in a play on the word \"pandemic\" First million doses of Pfizer’s vaccine could go out in midDecember . \n",
            " \n",
            " \n",
            "\n",
            "\n",
            "Progress = 97.31 %\n",
            " noon Wednesday UVIC students amp local artist to create a foot mural on a campus building in protest against UVics climate inaction . So backwards pdxrisingtide  cfax noon Wednesday . \n",
            " \n",
            " \n",
            "\n",
            "\n",
            "Progress = 97.69 %\n"
          ],
          "name": "stdout"
        },
        {
          "output_type": "stream",
          "text": [
            "Your max_length is set to 142, but you input_length is only 10. You might consider decreasing max_length manually, e.g. summarizer('...', max_length=50)\n"
          ],
          "name": "stderr"
        },
        {
          "output_type": "stream",
          "text": [
            " I voice the pregnant lady in the newest robandzom episode “Mortal Conundrum” Watch now on YouTube  Not to mention you would have to prove that the items being used to practice social distancing are not in fact themselves causing transmission transmission .Primary example would be CC readers and money . \n",
            " \n",
            " \n",
            "\n",
            "\n",
            "Progress = 98.08 %\n"
          ],
          "name": "stdout"
        },
        {
          "output_type": "stream",
          "text": [
            "Your max_length is set to 142, but you input_length is only 3. You might consider decreasing max_length manually, e.g. summarizer('...', max_length=50)\n"
          ],
          "name": "stderr"
        },
        {
          "output_type": "stream",
          "text": [
            " So backwards pdxrisingtide is so backwards that it's backwards . So backwards that's backwards. So backwards . \n",
            " \n",
            " \n",
            "\n",
            "\n",
            "Progress = 98.46 %\n",
            " CNN.com will feature iReporter photos in a weekly Travel Snapshots gallery . Please submit your best shots of our featured destinations for next week . Visit CNN iReport.com/Travel next Wednesday for a new gallery of snapshots . \n",
            " \n",
            " \n",
            "\n",
            "\n",
            "Progress = 98.85 %\n"
          ],
          "name": "stdout"
        },
        {
          "output_type": "stream",
          "text": [
            "Your max_length is set to 142, but you input_length is only 75. You might consider decreasing max_length manually, e.g. summarizer('...', max_length=50)\n"
          ],
          "name": "stderr"
        },
        {
          "output_type": "stream",
          "text": [
            " BC archbishop says there’s ‘no evidence’ behind ban on inperson religious services story . Sidney Powell went to UNC Chapel Hill for both undergrad and law school . \n",
            " \n",
            " \n",
            "\n",
            "\n",
            "Progress = 99.23 %\n",
            " Nothing is more important than a home especially during the pandemic . People experiencing women fleeing violence have been the hardest hit by amp issues . \n",
            " \n",
            " \n",
            "\n",
            "\n",
            "Progress = 99.62 %\n",
            " LandAid is a chosen charity partner of this years star studded storyofxmas on  December . \n",
            " \n",
            " \n",
            "\n",
            "\n",
            "Progress = 100.00 %\n"
          ],
          "name": "stdout"
        }
      ]
    },
    {
      "cell_type": "code",
      "metadata": {
        "id": "FQvh0J4Bgw03"
      },
      "source": [
        "\n"
      ],
      "execution_count": null,
      "outputs": []
    }
  ]
}